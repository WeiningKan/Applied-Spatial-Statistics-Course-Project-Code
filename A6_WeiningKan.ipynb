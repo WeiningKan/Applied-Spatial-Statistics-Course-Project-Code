{
  "nbformat": 4,
  "nbformat_minor": 0,
  "metadata": {
    "colab": {
      "provenance": [],
      "include_colab_link": true
    },
    "kernelspec": {
      "name": "python3",
      "display_name": "Python 3"
    },
    "language_info": {
      "name": "python"
    }
  },
  "cells": [
    {
      "cell_type": "markdown",
      "metadata": {
        "id": "view-in-github",
        "colab_type": "text"
      },
      "source": [
        "<a href=\"https://colab.research.google.com/github/WeiningKan/Applied-Spatial-Statistics-Course-Project-Code/blob/main/A6_WeiningKan.ipynb\" target=\"_parent\"><img src=\"https://colab.research.google.com/assets/colab-badge.svg\" alt=\"Open In Colab\"/></a>"
      ]
    },
    {
      "cell_type": "markdown",
      "source": [
        "# Assignment 6\n",
        "**Due date/time:** Apr 19th Fri 23:59pm\n",
        "\n",
        "**Instruction**: Make a copy of this notebook and read through the questions and instructions. Write down code/text to perform the analysis.\n",
        "\n",
        "**Submission**: After you finish working on this notebook, click File->Download->Download .ipynb\n",
        "\n",
        "Please submit a notebook named A6_your_name.ipynb on Canvas."
      ],
      "metadata": {
        "id": "sqjesvPPEket"
      }
    },
    {
      "cell_type": "markdown",
      "source": [
        "## Instructions:\n",
        "\n",
        "In this assignment, I hope to give you the maximum flexibility. You are free to train ANY 1 or several machine learning models on ANY dataset of your choice and to report the results. Here are some specific requirements:\n",
        "\n",
        "1) Briefly explain how the selected machine learning model(s) work, using 2-3 sentences. (20%)\n",
        "\n",
        "2) Provide a rationale for choosing this particular machine learning model(s) over others in 2-3 sentences. (20%)\n",
        "\n",
        "3) Train and test your model(s). (30%)\n",
        "\n",
        "4) Report the accuracy of your model(s) on both the training and test datasets. (10%)\n",
        "\n",
        "5) Use simple comments or markdowns to explain your steps and code throughout the notebook. (20%)\n",
        "\n",
        "\n",
        "Feel free to use the data from your final project for this assignment. Alternatively, if you are still wondering your project data or idea, you are welcome to use either the health data or the election data that we have previously used."
      ],
      "metadata": {
        "id": "nlUts3saotCm"
      }
    },
    {
      "cell_type": "markdown",
      "source": [
        "# **How LSTM work?**\n",
        "\n",
        "Long Short-Term Memory networks (LSTMs) are a special kind of Recurrent Neural Network (RNN) that effectively capture long-term dependencies using a structured memory cell. They regulate the flow of information through gates that decide what to retain in memory and what to discard. This structure allows LSTMs to make predictions based on current input, previous output, and the retained memory state."
      ],
      "metadata": {
        "id": "FMMII4iyBvUz"
      }
    },
    {
      "cell_type": "markdown",
      "source": [
        "#  **The rationale for choosing this particular machine learning model(s) over others.**\n",
        "The dataset is the daily average of PM2.5 for eleven consecutive years, and the data have distinct time-series characteristics, including seasonal variations and long-term trends.  \n",
        "LSTM models have inherent advantages for time series prediction because they are able to capture and memorize long-term data dependencies, which are crucial for predicting environmental indicators such as PM2.5. Compared to traditional recurrent neural networks, LSTM's gate control mechanism effectively prevents the problem of vanishing or exploding gradients and ensures the stability of model training on long series."
      ],
      "metadata": {
        "id": "tiYugWyfEgQd"
      }
    },
    {
      "cell_type": "markdown",
      "source": [
        "# **Train and test LSTM.**"
      ],
      "metadata": {
        "id": "6P0duCdDKc6E"
      }
    },
    {
      "cell_type": "code",
      "source": [
        "from google.colab import drive\n",
        "drive.mount('/content/drive')"
      ],
      "metadata": {
        "colab": {
          "base_uri": "https://localhost:8080/"
        },
        "id": "r9dmfNAu7n3K",
        "outputId": "90eff74e-9b50-485b-ddb4-682bb1af64ee"
      },
      "execution_count": null,
      "outputs": [
        {
          "output_type": "stream",
          "name": "stdout",
          "text": [
            "Mounted at /content/drive\n"
          ]
        }
      ]
    },
    {
      "cell_type": "code",
      "execution_count": null,
      "metadata": {
        "id": "5c42f5a4"
      },
      "outputs": [],
      "source": [
        "# Python Package\n",
        "import os\n",
        "import pandas as pd\n",
        "import matplotlib.pyplot as plt\n",
        "import matplotlib.colors as mcolors\n",
        "import numpy as np\n",
        "import seaborn as sns\n",
        "from tqdm import tqdm\n",
        "import torch\n",
        "import torch.nn as nn\n",
        "import torch.optim as optim\n",
        "from torch.utils.data import DataLoader, TensorDataset"
      ]
    },
    {
      "cell_type": "markdown",
      "source": [
        "### **Data Preparation**\n",
        "\n",
        "**Study area:** Tallahassee  \n",
        "**Temporal Scope:** Over the six years, from 2010 to 2020  \n",
        "**Data:** PM2.5 (Particulate Matter)\n"
      ],
      "metadata": {
        "id": "2-AjCA4v_Fk0"
      }
    },
    {
      "cell_type": "code",
      "execution_count": null,
      "metadata": {
        "id": "383e9f80",
        "outputId": "b941cb81-6666-4f02-bd8e-ac39a8091f33",
        "colab": {
          "base_uri": "https://localhost:8080/"
        }
      },
      "outputs": [
        {
          "output_type": "stream",
          "name": "stderr",
          "text": [
            "<ipython-input-4-cf7f50646a38>:10: DtypeWarning: Columns (13) have mixed types. Specify dtype option on import or set low_memory=False.\n",
            "  df = pd.read_csv(file_path)\n",
            "<ipython-input-4-cf7f50646a38>:10: DtypeWarning: Columns (13) have mixed types. Specify dtype option on import or set low_memory=False.\n",
            "  df = pd.read_csv(file_path)\n",
            "<ipython-input-4-cf7f50646a38>:10: DtypeWarning: Columns (13) have mixed types. Specify dtype option on import or set low_memory=False.\n",
            "  df = pd.read_csv(file_path)\n",
            "<ipython-input-4-cf7f50646a38>:10: DtypeWarning: Columns (13) have mixed types. Specify dtype option on import or set low_memory=False.\n",
            "  df = pd.read_csv(file_path)\n"
          ]
        }
      ],
      "source": [
        "# List of all file names\n",
        "pm_6file = ['daily_88101_2010.csv', 'daily_88101_2011.csv', 'daily_88101_2012.csv', 'daily_88101_2013.csv', 'daily_88101_2014.csv','daily_88101_2015.csv', 'daily_88101_2016.csv', 'daily_88101_2017.csv', 'daily_88101_2018.csv', 'daily_88101_2019.csv', 'daily_88101_2020.csv']\n",
        "\n",
        "# Empty DataFrame to store all data\n",
        "all_data_pm = pd.DataFrame()\n",
        "\n",
        "# Loop to read and merge data\n",
        "for file_name in pm_6file:\n",
        "    file_path = os.path.join('/content/drive/MyDrive/Colab Notebooks/GIS5122_Final/PM2.5', file_name)\n",
        "    df = pd.read_csv(file_path)\n",
        "    all_data_pm = pd.concat([all_data_pm, df])\n",
        "\n",
        "# Convert date column to datetime object\n",
        "all_data_pm['Date Local'] = pd.to_datetime(all_data_pm['Date Local'])\n",
        "\n",
        "# Replace spaces in column names with underscores\n",
        "all_data_pm.columns = all_data_pm.columns.str.replace(' ', '_')\n",
        "\n",
        "# Filter data for State Name 'Florida' and Sample Duration '24 HOUR'\n",
        "pm_tally = all_data_pm[(all_data_pm['City_Name'] == 'Tallahassee') & (all_data_pm['Sample_Duration'] == '24 HOUR')]"
      ]
    },
    {
      "cell_type": "code",
      "source": [
        "pm_tally"
      ],
      "metadata": {
        "id": "V-ueLrqghwxw",
        "colab": {
          "base_uri": "https://localhost:8080/",
          "height": 1000
        },
        "outputId": "f5072989-974a-48b3-f528-3a513d2374c6"
      },
      "execution_count": null,
      "outputs": [
        {
          "output_type": "execute_result",
          "data": {
            "text/plain": [
              "        State_Code  County_Code  Site_Num  Parameter_Code  POC   Latitude  \\\n",
              "57527           12           73        12         88101.0  1.0  30.439722   \n",
              "57528           12           73        12         88101.0  1.0  30.439722   \n",
              "57529           12           73        12         88101.0  1.0  30.439722   \n",
              "57530           12           73        12         88101.0  1.0  30.439722   \n",
              "57531           12           73        12         88101.0  1.0  30.439722   \n",
              "...            ...          ...       ...             ...  ...        ...   \n",
              "127073          12           73        12         88101.0  2.0  30.439722   \n",
              "127074          12           73        12         88101.0  2.0  30.439722   \n",
              "127075          12           73        12         88101.0  2.0  30.439722   \n",
              "127076          12           73        12         88101.0  2.0  30.439722   \n",
              "127077          12           73        12         88101.0  2.0  30.439722   \n",
              "\n",
              "        Longitude  Datum            Parameter_Name Sample_Duration  ...   AQI  \\\n",
              "57527  -84.346389  WGS84  PM2.5 - Local Conditions         24 HOUR  ...  19.0   \n",
              "57528  -84.346389  WGS84  PM2.5 - Local Conditions         24 HOUR  ...  33.0   \n",
              "57529  -84.346389  WGS84  PM2.5 - Local Conditions         24 HOUR  ...  27.0   \n",
              "57530  -84.346389  WGS84  PM2.5 - Local Conditions         24 HOUR  ...  45.0   \n",
              "57531  -84.346389  WGS84  PM2.5 - Local Conditions         24 HOUR  ...  74.0   \n",
              "...           ...    ...                       ...             ...  ...   ...   \n",
              "127073 -84.346389  WGS84  PM2.5 - Local Conditions         24 HOUR  ...  21.0   \n",
              "127074 -84.346389  WGS84  PM2.5 - Local Conditions         24 HOUR  ...  34.0   \n",
              "127075 -84.346389  WGS84  PM2.5 - Local Conditions         24 HOUR  ...  26.0   \n",
              "127076 -84.346389  WGS84  PM2.5 - Local Conditions         24 HOUR  ...  22.0   \n",
              "127077 -84.346389  WGS84  PM2.5 - Local Conditions         24 HOUR  ...  43.0   \n",
              "\n",
              "       Method_Code                                        Method_Name  \\\n",
              "57527        118.0  R & P Model 2025 PM2.5 Sequential w/WINS - GRA...   \n",
              "57528        118.0  R & P Model 2025 PM2.5 Sequential w/WINS - GRA...   \n",
              "57529        118.0  R & P Model 2025 PM2.5 Sequential w/WINS - GRA...   \n",
              "57530        118.0  R & P Model 2025 PM2.5 Sequential w/WINS - GRA...   \n",
              "57531        118.0  R & P Model 2025 PM2.5 Sequential w/WINS - GRA...   \n",
              "...            ...                                                ...   \n",
              "127073       145.0  R & P Model 2025 PM-2.5 Sequential Air Sampler...   \n",
              "127074       145.0  R & P Model 2025 PM-2.5 Sequential Air Sampler...   \n",
              "127075       145.0  R & P Model 2025 PM-2.5 Sequential Air Sampler...   \n",
              "127076       145.0  R & P Model 2025 PM-2.5 Sequential Air Sampler...   \n",
              "127077       145.0  R & P Model 2025 PM-2.5 Sequential Air Sampler...   \n",
              "\n",
              "                      Local_Site_Name                       Address  \\\n",
              "57527   Tallahassee Community College  110 CENTURY PARK CIRCLE WEST   \n",
              "57528   Tallahassee Community College  110 CENTURY PARK CIRCLE WEST   \n",
              "57529   Tallahassee Community College  110 CENTURY PARK CIRCLE WEST   \n",
              "57530   Tallahassee Community College  110 CENTURY PARK CIRCLE WEST   \n",
              "57531   Tallahassee Community College  110 CENTURY PARK CIRCLE WEST   \n",
              "...                               ...                           ...   \n",
              "127073  Tallahassee Community College  110 CENTURY PARK CIRCLE WEST   \n",
              "127074  Tallahassee Community College  110 CENTURY PARK CIRCLE WEST   \n",
              "127075  Tallahassee Community College  110 CENTURY PARK CIRCLE WEST   \n",
              "127076  Tallahassee Community College  110 CENTURY PARK CIRCLE WEST   \n",
              "127077  Tallahassee Community College  110 CENTURY PARK CIRCLE WEST   \n",
              "\n",
              "        State_Name  County_Name    City_Name        CBSA_Name  \\\n",
              "57527      Florida         Leon  Tallahassee  Tallahassee, FL   \n",
              "57528      Florida         Leon  Tallahassee  Tallahassee, FL   \n",
              "57529      Florida         Leon  Tallahassee  Tallahassee, FL   \n",
              "57530      Florida         Leon  Tallahassee  Tallahassee, FL   \n",
              "57531      Florida         Leon  Tallahassee  Tallahassee, FL   \n",
              "...            ...          ...          ...              ...   \n",
              "127073     Florida         Leon  Tallahassee  Tallahassee, FL   \n",
              "127074     Florida         Leon  Tallahassee  Tallahassee, FL   \n",
              "127075     Florida         Leon  Tallahassee  Tallahassee, FL   \n",
              "127076     Florida         Leon  Tallahassee  Tallahassee, FL   \n",
              "127077     Florida         Leon  Tallahassee  Tallahassee, FL   \n",
              "\n",
              "        Date_of_Last_Change  \n",
              "57527            2021-11-08  \n",
              "57528            2021-11-08  \n",
              "57529            2021-11-08  \n",
              "57530            2021-11-08  \n",
              "57531            2021-11-08  \n",
              "...                     ...  \n",
              "127073           2021-10-31  \n",
              "127074           2021-10-31  \n",
              "127075           2021-10-31  \n",
              "127076           2021-10-31  \n",
              "127077           2021-10-31  \n",
              "\n",
              "[1285 rows x 29 columns]"
            ],
            "text/html": [
              "\n",
              "  <div id=\"df-090c9955-2e7b-4917-b030-9f6685507e87\" class=\"colab-df-container\">\n",
              "    <div>\n",
              "<style scoped>\n",
              "    .dataframe tbody tr th:only-of-type {\n",
              "        vertical-align: middle;\n",
              "    }\n",
              "\n",
              "    .dataframe tbody tr th {\n",
              "        vertical-align: top;\n",
              "    }\n",
              "\n",
              "    .dataframe thead th {\n",
              "        text-align: right;\n",
              "    }\n",
              "</style>\n",
              "<table border=\"1\" class=\"dataframe\">\n",
              "  <thead>\n",
              "    <tr style=\"text-align: right;\">\n",
              "      <th></th>\n",
              "      <th>State_Code</th>\n",
              "      <th>County_Code</th>\n",
              "      <th>Site_Num</th>\n",
              "      <th>Parameter_Code</th>\n",
              "      <th>POC</th>\n",
              "      <th>Latitude</th>\n",
              "      <th>Longitude</th>\n",
              "      <th>Datum</th>\n",
              "      <th>Parameter_Name</th>\n",
              "      <th>Sample_Duration</th>\n",
              "      <th>...</th>\n",
              "      <th>AQI</th>\n",
              "      <th>Method_Code</th>\n",
              "      <th>Method_Name</th>\n",
              "      <th>Local_Site_Name</th>\n",
              "      <th>Address</th>\n",
              "      <th>State_Name</th>\n",
              "      <th>County_Name</th>\n",
              "      <th>City_Name</th>\n",
              "      <th>CBSA_Name</th>\n",
              "      <th>Date_of_Last_Change</th>\n",
              "    </tr>\n",
              "  </thead>\n",
              "  <tbody>\n",
              "    <tr>\n",
              "      <th>57527</th>\n",
              "      <td>12</td>\n",
              "      <td>73</td>\n",
              "      <td>12</td>\n",
              "      <td>88101.0</td>\n",
              "      <td>1.0</td>\n",
              "      <td>30.439722</td>\n",
              "      <td>-84.346389</td>\n",
              "      <td>WGS84</td>\n",
              "      <td>PM2.5 - Local Conditions</td>\n",
              "      <td>24 HOUR</td>\n",
              "      <td>...</td>\n",
              "      <td>19.0</td>\n",
              "      <td>118.0</td>\n",
              "      <td>R &amp; P Model 2025 PM2.5 Sequential w/WINS - GRA...</td>\n",
              "      <td>Tallahassee Community College</td>\n",
              "      <td>110 CENTURY PARK CIRCLE WEST</td>\n",
              "      <td>Florida</td>\n",
              "      <td>Leon</td>\n",
              "      <td>Tallahassee</td>\n",
              "      <td>Tallahassee, FL</td>\n",
              "      <td>2021-11-08</td>\n",
              "    </tr>\n",
              "    <tr>\n",
              "      <th>57528</th>\n",
              "      <td>12</td>\n",
              "      <td>73</td>\n",
              "      <td>12</td>\n",
              "      <td>88101.0</td>\n",
              "      <td>1.0</td>\n",
              "      <td>30.439722</td>\n",
              "      <td>-84.346389</td>\n",
              "      <td>WGS84</td>\n",
              "      <td>PM2.5 - Local Conditions</td>\n",
              "      <td>24 HOUR</td>\n",
              "      <td>...</td>\n",
              "      <td>33.0</td>\n",
              "      <td>118.0</td>\n",
              "      <td>R &amp; P Model 2025 PM2.5 Sequential w/WINS - GRA...</td>\n",
              "      <td>Tallahassee Community College</td>\n",
              "      <td>110 CENTURY PARK CIRCLE WEST</td>\n",
              "      <td>Florida</td>\n",
              "      <td>Leon</td>\n",
              "      <td>Tallahassee</td>\n",
              "      <td>Tallahassee, FL</td>\n",
              "      <td>2021-11-08</td>\n",
              "    </tr>\n",
              "    <tr>\n",
              "      <th>57529</th>\n",
              "      <td>12</td>\n",
              "      <td>73</td>\n",
              "      <td>12</td>\n",
              "      <td>88101.0</td>\n",
              "      <td>1.0</td>\n",
              "      <td>30.439722</td>\n",
              "      <td>-84.346389</td>\n",
              "      <td>WGS84</td>\n",
              "      <td>PM2.5 - Local Conditions</td>\n",
              "      <td>24 HOUR</td>\n",
              "      <td>...</td>\n",
              "      <td>27.0</td>\n",
              "      <td>118.0</td>\n",
              "      <td>R &amp; P Model 2025 PM2.5 Sequential w/WINS - GRA...</td>\n",
              "      <td>Tallahassee Community College</td>\n",
              "      <td>110 CENTURY PARK CIRCLE WEST</td>\n",
              "      <td>Florida</td>\n",
              "      <td>Leon</td>\n",
              "      <td>Tallahassee</td>\n",
              "      <td>Tallahassee, FL</td>\n",
              "      <td>2021-11-08</td>\n",
              "    </tr>\n",
              "    <tr>\n",
              "      <th>57530</th>\n",
              "      <td>12</td>\n",
              "      <td>73</td>\n",
              "      <td>12</td>\n",
              "      <td>88101.0</td>\n",
              "      <td>1.0</td>\n",
              "      <td>30.439722</td>\n",
              "      <td>-84.346389</td>\n",
              "      <td>WGS84</td>\n",
              "      <td>PM2.5 - Local Conditions</td>\n",
              "      <td>24 HOUR</td>\n",
              "      <td>...</td>\n",
              "      <td>45.0</td>\n",
              "      <td>118.0</td>\n",
              "      <td>R &amp; P Model 2025 PM2.5 Sequential w/WINS - GRA...</td>\n",
              "      <td>Tallahassee Community College</td>\n",
              "      <td>110 CENTURY PARK CIRCLE WEST</td>\n",
              "      <td>Florida</td>\n",
              "      <td>Leon</td>\n",
              "      <td>Tallahassee</td>\n",
              "      <td>Tallahassee, FL</td>\n",
              "      <td>2021-11-08</td>\n",
              "    </tr>\n",
              "    <tr>\n",
              "      <th>57531</th>\n",
              "      <td>12</td>\n",
              "      <td>73</td>\n",
              "      <td>12</td>\n",
              "      <td>88101.0</td>\n",
              "      <td>1.0</td>\n",
              "      <td>30.439722</td>\n",
              "      <td>-84.346389</td>\n",
              "      <td>WGS84</td>\n",
              "      <td>PM2.5 - Local Conditions</td>\n",
              "      <td>24 HOUR</td>\n",
              "      <td>...</td>\n",
              "      <td>74.0</td>\n",
              "      <td>118.0</td>\n",
              "      <td>R &amp; P Model 2025 PM2.5 Sequential w/WINS - GRA...</td>\n",
              "      <td>Tallahassee Community College</td>\n",
              "      <td>110 CENTURY PARK CIRCLE WEST</td>\n",
              "      <td>Florida</td>\n",
              "      <td>Leon</td>\n",
              "      <td>Tallahassee</td>\n",
              "      <td>Tallahassee, FL</td>\n",
              "      <td>2021-11-08</td>\n",
              "    </tr>\n",
              "    <tr>\n",
              "      <th>...</th>\n",
              "      <td>...</td>\n",
              "      <td>...</td>\n",
              "      <td>...</td>\n",
              "      <td>...</td>\n",
              "      <td>...</td>\n",
              "      <td>...</td>\n",
              "      <td>...</td>\n",
              "      <td>...</td>\n",
              "      <td>...</td>\n",
              "      <td>...</td>\n",
              "      <td>...</td>\n",
              "      <td>...</td>\n",
              "      <td>...</td>\n",
              "      <td>...</td>\n",
              "      <td>...</td>\n",
              "      <td>...</td>\n",
              "      <td>...</td>\n",
              "      <td>...</td>\n",
              "      <td>...</td>\n",
              "      <td>...</td>\n",
              "      <td>...</td>\n",
              "    </tr>\n",
              "    <tr>\n",
              "      <th>127073</th>\n",
              "      <td>12</td>\n",
              "      <td>73</td>\n",
              "      <td>12</td>\n",
              "      <td>88101.0</td>\n",
              "      <td>2.0</td>\n",
              "      <td>30.439722</td>\n",
              "      <td>-84.346389</td>\n",
              "      <td>WGS84</td>\n",
              "      <td>PM2.5 - Local Conditions</td>\n",
              "      <td>24 HOUR</td>\n",
              "      <td>...</td>\n",
              "      <td>21.0</td>\n",
              "      <td>145.0</td>\n",
              "      <td>R &amp; P Model 2025 PM-2.5 Sequential Air Sampler...</td>\n",
              "      <td>Tallahassee Community College</td>\n",
              "      <td>110 CENTURY PARK CIRCLE WEST</td>\n",
              "      <td>Florida</td>\n",
              "      <td>Leon</td>\n",
              "      <td>Tallahassee</td>\n",
              "      <td>Tallahassee, FL</td>\n",
              "      <td>2021-10-31</td>\n",
              "    </tr>\n",
              "    <tr>\n",
              "      <th>127074</th>\n",
              "      <td>12</td>\n",
              "      <td>73</td>\n",
              "      <td>12</td>\n",
              "      <td>88101.0</td>\n",
              "      <td>2.0</td>\n",
              "      <td>30.439722</td>\n",
              "      <td>-84.346389</td>\n",
              "      <td>WGS84</td>\n",
              "      <td>PM2.5 - Local Conditions</td>\n",
              "      <td>24 HOUR</td>\n",
              "      <td>...</td>\n",
              "      <td>34.0</td>\n",
              "      <td>145.0</td>\n",
              "      <td>R &amp; P Model 2025 PM-2.5 Sequential Air Sampler...</td>\n",
              "      <td>Tallahassee Community College</td>\n",
              "      <td>110 CENTURY PARK CIRCLE WEST</td>\n",
              "      <td>Florida</td>\n",
              "      <td>Leon</td>\n",
              "      <td>Tallahassee</td>\n",
              "      <td>Tallahassee, FL</td>\n",
              "      <td>2021-10-31</td>\n",
              "    </tr>\n",
              "    <tr>\n",
              "      <th>127075</th>\n",
              "      <td>12</td>\n",
              "      <td>73</td>\n",
              "      <td>12</td>\n",
              "      <td>88101.0</td>\n",
              "      <td>2.0</td>\n",
              "      <td>30.439722</td>\n",
              "      <td>-84.346389</td>\n",
              "      <td>WGS84</td>\n",
              "      <td>PM2.5 - Local Conditions</td>\n",
              "      <td>24 HOUR</td>\n",
              "      <td>...</td>\n",
              "      <td>26.0</td>\n",
              "      <td>145.0</td>\n",
              "      <td>R &amp; P Model 2025 PM-2.5 Sequential Air Sampler...</td>\n",
              "      <td>Tallahassee Community College</td>\n",
              "      <td>110 CENTURY PARK CIRCLE WEST</td>\n",
              "      <td>Florida</td>\n",
              "      <td>Leon</td>\n",
              "      <td>Tallahassee</td>\n",
              "      <td>Tallahassee, FL</td>\n",
              "      <td>2021-10-31</td>\n",
              "    </tr>\n",
              "    <tr>\n",
              "      <th>127076</th>\n",
              "      <td>12</td>\n",
              "      <td>73</td>\n",
              "      <td>12</td>\n",
              "      <td>88101.0</td>\n",
              "      <td>2.0</td>\n",
              "      <td>30.439722</td>\n",
              "      <td>-84.346389</td>\n",
              "      <td>WGS84</td>\n",
              "      <td>PM2.5 - Local Conditions</td>\n",
              "      <td>24 HOUR</td>\n",
              "      <td>...</td>\n",
              "      <td>22.0</td>\n",
              "      <td>145.0</td>\n",
              "      <td>R &amp; P Model 2025 PM-2.5 Sequential Air Sampler...</td>\n",
              "      <td>Tallahassee Community College</td>\n",
              "      <td>110 CENTURY PARK CIRCLE WEST</td>\n",
              "      <td>Florida</td>\n",
              "      <td>Leon</td>\n",
              "      <td>Tallahassee</td>\n",
              "      <td>Tallahassee, FL</td>\n",
              "      <td>2021-10-31</td>\n",
              "    </tr>\n",
              "    <tr>\n",
              "      <th>127077</th>\n",
              "      <td>12</td>\n",
              "      <td>73</td>\n",
              "      <td>12</td>\n",
              "      <td>88101.0</td>\n",
              "      <td>2.0</td>\n",
              "      <td>30.439722</td>\n",
              "      <td>-84.346389</td>\n",
              "      <td>WGS84</td>\n",
              "      <td>PM2.5 - Local Conditions</td>\n",
              "      <td>24 HOUR</td>\n",
              "      <td>...</td>\n",
              "      <td>43.0</td>\n",
              "      <td>145.0</td>\n",
              "      <td>R &amp; P Model 2025 PM-2.5 Sequential Air Sampler...</td>\n",
              "      <td>Tallahassee Community College</td>\n",
              "      <td>110 CENTURY PARK CIRCLE WEST</td>\n",
              "      <td>Florida</td>\n",
              "      <td>Leon</td>\n",
              "      <td>Tallahassee</td>\n",
              "      <td>Tallahassee, FL</td>\n",
              "      <td>2021-10-31</td>\n",
              "    </tr>\n",
              "  </tbody>\n",
              "</table>\n",
              "<p>1285 rows × 29 columns</p>\n",
              "</div>\n",
              "    <div class=\"colab-df-buttons\">\n",
              "\n",
              "  <div class=\"colab-df-container\">\n",
              "    <button class=\"colab-df-convert\" onclick=\"convertToInteractive('df-090c9955-2e7b-4917-b030-9f6685507e87')\"\n",
              "            title=\"Convert this dataframe to an interactive table.\"\n",
              "            style=\"display:none;\">\n",
              "\n",
              "  <svg xmlns=\"http://www.w3.org/2000/svg\" height=\"24px\" viewBox=\"0 -960 960 960\">\n",
              "    <path d=\"M120-120v-720h720v720H120Zm60-500h600v-160H180v160Zm220 220h160v-160H400v160Zm0 220h160v-160H400v160ZM180-400h160v-160H180v160Zm440 0h160v-160H620v160ZM180-180h160v-160H180v160Zm440 0h160v-160H620v160Z\"/>\n",
              "  </svg>\n",
              "    </button>\n",
              "\n",
              "  <style>\n",
              "    .colab-df-container {\n",
              "      display:flex;\n",
              "      gap: 12px;\n",
              "    }\n",
              "\n",
              "    .colab-df-convert {\n",
              "      background-color: #E8F0FE;\n",
              "      border: none;\n",
              "      border-radius: 50%;\n",
              "      cursor: pointer;\n",
              "      display: none;\n",
              "      fill: #1967D2;\n",
              "      height: 32px;\n",
              "      padding: 0 0 0 0;\n",
              "      width: 32px;\n",
              "    }\n",
              "\n",
              "    .colab-df-convert:hover {\n",
              "      background-color: #E2EBFA;\n",
              "      box-shadow: 0px 1px 2px rgba(60, 64, 67, 0.3), 0px 1px 3px 1px rgba(60, 64, 67, 0.15);\n",
              "      fill: #174EA6;\n",
              "    }\n",
              "\n",
              "    .colab-df-buttons div {\n",
              "      margin-bottom: 4px;\n",
              "    }\n",
              "\n",
              "    [theme=dark] .colab-df-convert {\n",
              "      background-color: #3B4455;\n",
              "      fill: #D2E3FC;\n",
              "    }\n",
              "\n",
              "    [theme=dark] .colab-df-convert:hover {\n",
              "      background-color: #434B5C;\n",
              "      box-shadow: 0px 1px 3px 1px rgba(0, 0, 0, 0.15);\n",
              "      filter: drop-shadow(0px 1px 2px rgba(0, 0, 0, 0.3));\n",
              "      fill: #FFFFFF;\n",
              "    }\n",
              "  </style>\n",
              "\n",
              "    <script>\n",
              "      const buttonEl =\n",
              "        document.querySelector('#df-090c9955-2e7b-4917-b030-9f6685507e87 button.colab-df-convert');\n",
              "      buttonEl.style.display =\n",
              "        google.colab.kernel.accessAllowed ? 'block' : 'none';\n",
              "\n",
              "      async function convertToInteractive(key) {\n",
              "        const element = document.querySelector('#df-090c9955-2e7b-4917-b030-9f6685507e87');\n",
              "        const dataTable =\n",
              "          await google.colab.kernel.invokeFunction('convertToInteractive',\n",
              "                                                    [key], {});\n",
              "        if (!dataTable) return;\n",
              "\n",
              "        const docLinkHtml = 'Like what you see? Visit the ' +\n",
              "          '<a target=\"_blank\" href=https://colab.research.google.com/notebooks/data_table.ipynb>data table notebook</a>'\n",
              "          + ' to learn more about interactive tables.';\n",
              "        element.innerHTML = '';\n",
              "        dataTable['output_type'] = 'display_data';\n",
              "        await google.colab.output.renderOutput(dataTable, element);\n",
              "        const docLink = document.createElement('div');\n",
              "        docLink.innerHTML = docLinkHtml;\n",
              "        element.appendChild(docLink);\n",
              "      }\n",
              "    </script>\n",
              "  </div>\n",
              "\n",
              "\n",
              "<div id=\"df-e4c33228-9aee-44bc-992a-20470edcec14\">\n",
              "  <button class=\"colab-df-quickchart\" onclick=\"quickchart('df-e4c33228-9aee-44bc-992a-20470edcec14')\"\n",
              "            title=\"Suggest charts\"\n",
              "            style=\"display:none;\">\n",
              "\n",
              "<svg xmlns=\"http://www.w3.org/2000/svg\" height=\"24px\"viewBox=\"0 0 24 24\"\n",
              "     width=\"24px\">\n",
              "    <g>\n",
              "        <path d=\"M19 3H5c-1.1 0-2 .9-2 2v14c0 1.1.9 2 2 2h14c1.1 0 2-.9 2-2V5c0-1.1-.9-2-2-2zM9 17H7v-7h2v7zm4 0h-2V7h2v10zm4 0h-2v-4h2v4z\"/>\n",
              "    </g>\n",
              "</svg>\n",
              "  </button>\n",
              "\n",
              "<style>\n",
              "  .colab-df-quickchart {\n",
              "      --bg-color: #E8F0FE;\n",
              "      --fill-color: #1967D2;\n",
              "      --hover-bg-color: #E2EBFA;\n",
              "      --hover-fill-color: #174EA6;\n",
              "      --disabled-fill-color: #AAA;\n",
              "      --disabled-bg-color: #DDD;\n",
              "  }\n",
              "\n",
              "  [theme=dark] .colab-df-quickchart {\n",
              "      --bg-color: #3B4455;\n",
              "      --fill-color: #D2E3FC;\n",
              "      --hover-bg-color: #434B5C;\n",
              "      --hover-fill-color: #FFFFFF;\n",
              "      --disabled-bg-color: #3B4455;\n",
              "      --disabled-fill-color: #666;\n",
              "  }\n",
              "\n",
              "  .colab-df-quickchart {\n",
              "    background-color: var(--bg-color);\n",
              "    border: none;\n",
              "    border-radius: 50%;\n",
              "    cursor: pointer;\n",
              "    display: none;\n",
              "    fill: var(--fill-color);\n",
              "    height: 32px;\n",
              "    padding: 0;\n",
              "    width: 32px;\n",
              "  }\n",
              "\n",
              "  .colab-df-quickchart:hover {\n",
              "    background-color: var(--hover-bg-color);\n",
              "    box-shadow: 0 1px 2px rgba(60, 64, 67, 0.3), 0 1px 3px 1px rgba(60, 64, 67, 0.15);\n",
              "    fill: var(--button-hover-fill-color);\n",
              "  }\n",
              "\n",
              "  .colab-df-quickchart-complete:disabled,\n",
              "  .colab-df-quickchart-complete:disabled:hover {\n",
              "    background-color: var(--disabled-bg-color);\n",
              "    fill: var(--disabled-fill-color);\n",
              "    box-shadow: none;\n",
              "  }\n",
              "\n",
              "  .colab-df-spinner {\n",
              "    border: 2px solid var(--fill-color);\n",
              "    border-color: transparent;\n",
              "    border-bottom-color: var(--fill-color);\n",
              "    animation:\n",
              "      spin 1s steps(1) infinite;\n",
              "  }\n",
              "\n",
              "  @keyframes spin {\n",
              "    0% {\n",
              "      border-color: transparent;\n",
              "      border-bottom-color: var(--fill-color);\n",
              "      border-left-color: var(--fill-color);\n",
              "    }\n",
              "    20% {\n",
              "      border-color: transparent;\n",
              "      border-left-color: var(--fill-color);\n",
              "      border-top-color: var(--fill-color);\n",
              "    }\n",
              "    30% {\n",
              "      border-color: transparent;\n",
              "      border-left-color: var(--fill-color);\n",
              "      border-top-color: var(--fill-color);\n",
              "      border-right-color: var(--fill-color);\n",
              "    }\n",
              "    40% {\n",
              "      border-color: transparent;\n",
              "      border-right-color: var(--fill-color);\n",
              "      border-top-color: var(--fill-color);\n",
              "    }\n",
              "    60% {\n",
              "      border-color: transparent;\n",
              "      border-right-color: var(--fill-color);\n",
              "    }\n",
              "    80% {\n",
              "      border-color: transparent;\n",
              "      border-right-color: var(--fill-color);\n",
              "      border-bottom-color: var(--fill-color);\n",
              "    }\n",
              "    90% {\n",
              "      border-color: transparent;\n",
              "      border-bottom-color: var(--fill-color);\n",
              "    }\n",
              "  }\n",
              "</style>\n",
              "\n",
              "  <script>\n",
              "    async function quickchart(key) {\n",
              "      const quickchartButtonEl =\n",
              "        document.querySelector('#' + key + ' button');\n",
              "      quickchartButtonEl.disabled = true;  // To prevent multiple clicks.\n",
              "      quickchartButtonEl.classList.add('colab-df-spinner');\n",
              "      try {\n",
              "        const charts = await google.colab.kernel.invokeFunction(\n",
              "            'suggestCharts', [key], {});\n",
              "      } catch (error) {\n",
              "        console.error('Error during call to suggestCharts:', error);\n",
              "      }\n",
              "      quickchartButtonEl.classList.remove('colab-df-spinner');\n",
              "      quickchartButtonEl.classList.add('colab-df-quickchart-complete');\n",
              "    }\n",
              "    (() => {\n",
              "      let quickchartButtonEl =\n",
              "        document.querySelector('#df-e4c33228-9aee-44bc-992a-20470edcec14 button');\n",
              "      quickchartButtonEl.style.display =\n",
              "        google.colab.kernel.accessAllowed ? 'block' : 'none';\n",
              "    })();\n",
              "  </script>\n",
              "</div>\n",
              "    </div>\n",
              "  </div>\n"
            ],
            "application/vnd.google.colaboratory.intrinsic+json": {
              "type": "dataframe",
              "variable_name": "pm_tally"
            }
          },
          "metadata": {},
          "execution_count": 5
        }
      ]
    },
    {
      "cell_type": "markdown",
      "source": [
        "### **Data preprocessing for LSTM**"
      ],
      "metadata": {
        "id": "J8Es1KwPAaKh"
      }
    },
    {
      "cell_type": "code",
      "source": [
        "from sklearn.preprocessing import MinMaxScaler\n",
        "\n",
        "# Assuming the first column in your features will be your label\n",
        "features = pm_tally[['Arithmetic_Mean']]\n",
        "target = pm_tally[['Arithmetic_Mean']]\n",
        "\n",
        "scaler = MinMaxScaler(feature_range=(0, 1))\n",
        "scaled_data = scaler.fit_transform(features)\n",
        "target_normalized = scaler.fit_transform(target)\n",
        "\n",
        "n_past_steps = 7  # Number of past timesteps you want to use for prediction\n",
        "\n",
        "# A helper function to prepare data with shifted sequences\n",
        "def create_sequences(data, n_past_steps):\n",
        "    X, y = [], []\n",
        "    for i in range(n_past_steps, len(data)):\n",
        "        X.append(data[i-n_past_steps:i, :])\n",
        "        y.append(data[i, 0])\n",
        "    return np.array(X), np.array(y)\n",
        "\n",
        "X, y = create_sequences(scaled_data, n_past_steps)"
      ],
      "metadata": {
        "id": "LN96nGk-hw0X"
      },
      "execution_count": null,
      "outputs": []
    },
    {
      "cell_type": "code",
      "source": [
        "X.shape"
      ],
      "metadata": {
        "id": "803M9ZYDhw2d",
        "colab": {
          "base_uri": "https://localhost:8080/"
        },
        "outputId": "6fd3f988-1e97-48e3-d30f-c425b640055b"
      },
      "execution_count": null,
      "outputs": [
        {
          "output_type": "execute_result",
          "data": {
            "text/plain": [
              "(1278, 7, 1)"
            ]
          },
          "metadata": {},
          "execution_count": 7
        }
      ]
    },
    {
      "cell_type": "code",
      "source": [
        "y.shape"
      ],
      "metadata": {
        "id": "AdHueyGRhw4y",
        "colab": {
          "base_uri": "https://localhost:8080/"
        },
        "outputId": "a256bc5e-79b1-4363-93d5-605949a47c8b"
      },
      "execution_count": null,
      "outputs": [
        {
          "output_type": "execute_result",
          "data": {
            "text/plain": [
              "(1278,)"
            ]
          },
          "metadata": {},
          "execution_count": 8
        }
      ]
    },
    {
      "cell_type": "code",
      "source": [
        "from torch.utils.data import TensorDataset, DataLoader, random_split\n",
        "\n",
        "# Splitting dataset into training and testing sets\n",
        "split = int(0.8 * len(X))  # 80% for training, 20% for testing\n",
        "\n",
        "X_train, X_test = X[:split], X[split:]\n",
        "y_train, y_test = y[:split], y[split:]"
      ],
      "metadata": {
        "id": "3--JdFPLhw64"
      },
      "execution_count": null,
      "outputs": []
    },
    {
      "cell_type": "code",
      "source": [
        "X_train_tensor = torch.Tensor(X_train)  # Convert features to a torch Tensor\n",
        "y_train_tensor = torch.Tensor(y_train)  # Convert labels to a torch Tensor\n",
        "X_test_tensor = torch.Tensor(X_test)  # Convert features to a torch Tensor\n",
        "y_test_tensor = torch.Tensor(y_test)  # Convert labels to a torch Tensor\n",
        "\n",
        "# Create a TensorDataset\n",
        "train_dataset = TensorDataset(X_train_tensor, y_train_tensor)\n",
        "test_dataset = TensorDataset(X_test_tensor, y_test_tensor)\n",
        "\n",
        "train_loader = DataLoader(train_dataset, batch_size=32, shuffle=False)\n",
        "test_loader = DataLoader(test_dataset, batch_size=32, shuffle=False)"
      ],
      "metadata": {
        "id": "El21Y8TPhw9O"
      },
      "execution_count": null,
      "outputs": []
    },
    {
      "cell_type": "markdown",
      "source": [
        "### **Define the LSTM model**"
      ],
      "metadata": {
        "id": "f1JlqeLzBVxR"
      }
    },
    {
      "cell_type": "code",
      "source": [
        "class SimpleLSTM(nn.Module):\n",
        "    def __init__(self, input_size, hidden_size, num_layers):\n",
        "        super(SimpleLSTM, self).__init__()\n",
        "\n",
        "        self.num_layers = num_layers\n",
        "        self.hidden_size = hidden_size\n",
        "\n",
        "        #create your LSTM\n",
        "        self.lstm = nn.LSTM(input_size, hidden_size, num_layers, batch_first=True)\n",
        "\n",
        "        #After LSTM to a linear prediction to get the predicted value\n",
        "        self.linear = nn.Linear(hidden_size, 1)\n",
        "\n",
        "\n",
        "    def forward(self, x):\n",
        "        # Initialize hidden state with zeros\n",
        "        h0 = torch.zeros(self.num_layers, x.size(0), self.hidden_size)\n",
        "        # Initialize cell state\n",
        "        c0 = torch.zeros(self.num_layers, x.size(0), self.hidden_size)\n",
        "\n",
        "        #Go through your LSTM\n",
        "        out, (hh,cc) = self.lstm(x, (h0, c0))\n",
        "\n",
        "        # Get the last time stamp prediction from LSTM\n",
        "        out = self.linear(out[:, -1, :])\n",
        "        return out"
      ],
      "metadata": {
        "id": "j5gOSGt7hw_m"
      },
      "execution_count": null,
      "outputs": []
    },
    {
      "cell_type": "markdown",
      "source": [
        "Initialize the model"
      ],
      "metadata": {
        "id": "mU1RRnmnBd1F"
      }
    },
    {
      "cell_type": "code",
      "source": [
        "model = SimpleLSTM(input_size=X.shape[-1], hidden_size=32, num_layers=1)\n",
        "criterion = nn.MSELoss()\n",
        "optimizer = optim.Adam(model.parameters(), lr=0.001)"
      ],
      "metadata": {
        "id": "1TpC9QXnM4HY"
      },
      "execution_count": null,
      "outputs": []
    },
    {
      "cell_type": "markdown",
      "source": [
        "Train the model"
      ],
      "metadata": {
        "id": "nA4gR0fdBilq"
      }
    },
    {
      "cell_type": "code",
      "source": [
        "%%time\n",
        "\n",
        "train_losses = []\n",
        "val_losses = []\n",
        "\n",
        "#Number of epochs\n",
        "#With 150 epochs, I found the model overfitted.\n",
        "epochs = 30\n",
        "for epoch in tqdm(range(epochs)):\n",
        "    #turn on training mode\n",
        "    model.train()\n",
        "    train_loss = 0\n",
        "    #For each batch in our training dataset\n",
        "    for X_batch, y_batch in train_loader:\n",
        "        #reset gradients\n",
        "        optimizer.zero_grad()\n",
        "        #forward to get prediction\n",
        "        y_pred = model(X_batch)\n",
        "        #calculate loss\n",
        "        loss = criterion(y_pred, y_batch)\n",
        "        #backward to update weights/biases\n",
        "        loss.backward()\n",
        "        optimizer.step()\n",
        "        #sum over loss for all the batches.\n",
        "        train_loss += loss.item()\n",
        "\n",
        "    #store the average loss\n",
        "    train_losses.append(train_loss / len(train_loader))\n",
        "\n",
        "\n",
        "    #turn on evaluation mode\n",
        "    model.eval()\n",
        "    val_loss = 0\n",
        "    with torch.no_grad():\n",
        "        for X_batch, y_batch in test_loader:\n",
        "            #forward to get predicton\n",
        "            y_pred = model(X_batch)\n",
        "            #calculate loss on test data\n",
        "            loss = criterion(y_pred, y_batch)\n",
        "            val_loss += loss.item()\n",
        "    #store the average loss\n",
        "    val_losses.append(val_loss / len(test_loader))\n"
      ],
      "metadata": {
        "colab": {
          "base_uri": "https://localhost:8080/"
        },
        "id": "CSc9IzMpBg3v",
        "outputId": "197b794a-4488-4b85-83f8-fa81b39e717c"
      },
      "execution_count": null,
      "outputs": [
        {
          "output_type": "stream",
          "name": "stderr",
          "text": [
            "\r  0%|          | 0/30 [00:00<?, ?it/s]/usr/local/lib/python3.10/dist-packages/torch/nn/modules/loss.py:535: UserWarning: Using a target size (torch.Size([32])) that is different to the input size (torch.Size([32, 1])). This will likely lead to incorrect results due to broadcasting. Please ensure they have the same size.\n",
            "  return F.mse_loss(input, target, reduction=self.reduction)\n",
            "/usr/local/lib/python3.10/dist-packages/torch/nn/modules/loss.py:535: UserWarning: Using a target size (torch.Size([30])) that is different to the input size (torch.Size([30, 1])). This will likely lead to incorrect results due to broadcasting. Please ensure they have the same size.\n",
            "  return F.mse_loss(input, target, reduction=self.reduction)\n",
            "100%|██████████| 30/30 [00:06<00:00,  4.38it/s]"
          ]
        },
        {
          "output_type": "stream",
          "name": "stdout",
          "text": [
            "CPU times: user 4.53 s, sys: 75.2 ms, total: 4.6 s\n",
            "Wall time: 6.87 s\n"
          ]
        },
        {
          "output_type": "stream",
          "name": "stderr",
          "text": [
            "\n"
          ]
        }
      ]
    },
    {
      "cell_type": "code",
      "source": [
        "# Plotting\n",
        "plt.figure(figsize=(10, 5))\n",
        "plt.plot(train_losses, label='Training Loss')\n",
        "plt.plot(val_losses, label='Test Loss')\n",
        "plt.title('Loss Curves')\n",
        "plt.xlabel('Epochs')\n",
        "plt.ylabel('Loss')\n",
        "#plt.xlim(0,200)\n",
        "#plt.ylim(0,0.04)\n",
        "plt.legend()\n",
        "plt.show()"
      ],
      "metadata": {
        "colab": {
          "base_uri": "https://localhost:8080/",
          "height": 487
        },
        "id": "4BEGzUVVBg1C",
        "outputId": "d17dde1a-b003-4d75-d15b-e21646cc15d0"
      },
      "execution_count": null,
      "outputs": [
        {
          "output_type": "display_data",
          "data": {
            "text/plain": [
              "<Figure size 1000x500 with 1 Axes>"
            ],
            "image/png": "[encoded data removed]"
          },
          "metadata": {}
        }
      ]
    },
    {
      "cell_type": "markdown",
      "source": [
        "Get prediction for both training data and test data to evaluate performance"
      ],
      "metadata": {
        "id": "5xLkxnicCVsl"
      }
    },
    {
      "cell_type": "code",
      "source": [
        "model.eval()  # Set the model to evaluation mode\n",
        "predictions = []\n",
        "actuals = []\n",
        "\n",
        "with torch.no_grad():\n",
        "    for inputs, labels in train_loader:\n",
        "        outputs = model(inputs)\n",
        "        # Store predictions and actual values\n",
        "        predictions.extend(outputs.view(-1).tolist())\n",
        "\n",
        "        actuals.extend(labels.view(-1).tolist())\n",
        "\n",
        "    for inputs, labels in test_loader:\n",
        "        outputs = model(inputs)\n",
        "        # Store predictions and actual values\n",
        "        predictions.extend(outputs.view(-1).tolist())\n",
        "\n",
        "        actuals.extend(labels.view(-1).tolist())\n",
        "\n",
        "#Inverse transform the predictions and actuals\n",
        "predictions = scaler.inverse_transform(np.array(predictions).reshape(-1, 1)).reshape(-1)\n",
        "actuals = scaler.inverse_transform(np.array(actuals).reshape(-1, 1)).reshape(-1)"
      ],
      "metadata": {
        "id": "tFkvJerYBgxl"
      },
      "execution_count": null,
      "outputs": []
    },
    {
      "cell_type": "markdown",
      "source": [
        "Plot the predicted daily arithmetic mean of PM 2.5, before the blue line are the training data, and after the blue line is the testing data."
      ],
      "metadata": {
        "id": "iwFUYt7uCad4"
      }
    },
    {
      "cell_type": "code",
      "source": [
        "plt.plot(actuals,label=\"actual\",alpha=0.5)\n",
        "plt.axvline(x = split, color = 'b')\n",
        "plt.plot(predictions,label=\"predicted\")\n",
        "plt.xlabel('Day')\n",
        "plt.ylabel('PM 2.5 Arithmetic Mean')\n",
        "plt.legend()\n",
        "plt.title('Figure 1')"
      ],
      "metadata": {
        "colab": {
          "base_uri": "https://localhost:8080/",
          "height": 489
        },
        "id": "thmJKIYkBgrz",
        "outputId": "6f0e515c-648f-4b60-fa26-bbb8b7958e3f"
      },
      "execution_count": null,
      "outputs": [
        {
          "output_type": "execute_result",
          "data": {
            "text/plain": [
              "Text(0.5, 1.0, 'Figure 1')"
            ]
          },
          "metadata": {},
          "execution_count": 16
        },
        {
          "output_type": "display_data",
          "data": {
            "text/plain": [
              "<Figure size 640x480 with 1 Axes>"
            ],
            "image/png": "[encoded data removed]"
          },
          "metadata": {}
        }
      ]
    },
    {
      "cell_type": "markdown",
      "source": [
        "# **Report the accuracy of LSTM on both the training and test datasets.**\n",
        "\n",
        "**MAE of 2.8394:** An average deviation of 2.8394µg/m³ from the actuals.\n",
        "\n",
        "**MSE of 14.9495:** Higher MSEs indicate larger errors in some predictions, with the significant overprediction for days 750-800 shown in Figure 1 (predicted values are 35µg/m³ higher than actual values).\n",
        "\n",
        "**RMSE of 3.8665:** The RMSE being around 3.8665 units signifies that the model's predictions are, on average, nearly 3.8665µg/m³ off from the actual values.\n",
        "\n",
        "From the above values as well as Figure 1, the performance of the model is likely to be satisfactory for rough estimation. However, for applications that require high accuracy, such as providing health advice based on air quality data, or environmental regulations that may require industrial facilities or local governments to maintain PM2.5 below a certain standard to avoid fines or other legal consequences. The model may require further optimization of the model, an increase in the variety and quality of data inputs, or the application of more sophisticated analytical techniques."
      ],
      "metadata": {
        "id": "UXilequIKyNY"
      }
    },
    {
      "cell_type": "code",
      "source": [
        "from sklearn.metrics import mean_absolute_error, mean_squared_error\n",
        "#MAE\n",
        "mae = mean_absolute_error(actuals, predictions)\n",
        "\n",
        "#MSE\n",
        "mse = mean_squared_error(actuals, predictions)\n",
        "\n",
        "#RMSE\n",
        "rmse = np.sqrt(mse)\n",
        "\n",
        "print(f\"MAE: {mae}\")\n",
        "print(f\"MSE: {mse}\")\n",
        "print(f\"RMSE: {rmse}\")"
      ],
      "metadata": {
        "colab": {
          "base_uri": "https://localhost:8080/"
        },
        "id": "C3vONd0DBgbe",
        "outputId": "a62fa22f-f754-4aca-f0ae-65757f940e0c"
      },
      "execution_count": null,
      "outputs": [
        {
          "output_type": "stream",
          "name": "stdout",
          "text": [
            "MAE: 2.891515349947697\n",
            "MSE: 17.750334487266667\n",
            "RMSE: 4.213114582736466\n"
          ]
        }
      ]
    }
  ]
}