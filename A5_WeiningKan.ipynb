{
  "nbformat": 4,
  "nbformat_minor": 0,
  "metadata": {
    "colab": {
      "provenance": [],
      "include_colab_link": true
    },
    "kernelspec": {
      "name": "python3",
      "display_name": "Python 3"
    },
    "language_info": {
      "name": "python"
    }
  },
  "cells": [
    {
      "cell_type": "markdown",
      "metadata": {
        "id": "view-in-github",
        "colab_type": "text"
      },
      "source": [
        "<a href=\"https://colab.research.google.com/github/WeiningKan/Applied-Spatial-Statistics-Course-Project-Code/blob/main/A5_WeiningKan.ipynb\" target=\"_parent\"><img src=\"https://colab.research.google.com/assets/colab-badge.svg\" alt=\"Open In Colab\"/></a>"
      ]
    },
    {
      "cell_type": "markdown",
      "source": [
        "# Assignment 5\n",
        "**Due date/time:** Apr 9th Tue 23:59pm\n",
        "\n",
        "**Instruction**: Make a copy of this notebook and read through the questions and instructions. Write down code/text to perform the analysis.\n",
        "\n",
        "**Submission**: After you finish working on this notebook, click File->Download->Download .ipynb\n",
        "\n",
        "Please submit a notebook named A5_your_name.ipynb on Canvas."
      ],
      "metadata": {
        "id": "sqjesvPPEket"
      }
    },
    {
      "cell_type": "markdown",
      "source": [
        "## Detailed instructions:\n",
        "\n",
        "In this assignment, you will practice building Multi-level Models (MLM).\n",
        "\n",
        "We will be re-using our data and model specifications from Assignment 3 and 4. For the same set of dependent variable (y) and independent variables (X) you will build 3 models.\n",
        "\n",
        "\n",
        "**Model 1 (30%):** Fit an MLM with varying intercept only (no Xs) as follows\n",
        "\n",
        "`model1 = Lmer('y ~ 1 + (1|state)', data=your_data)`\n",
        "\n",
        "Describe your model output and calculate the Variance Partition Coefficient (VPC), explain your results.\n",
        "\n",
        "**Model 2 (30%):** Fit an MLM with varying intercept and your independent variables as fixed effects as follows\n",
        "\n",
        "`model2 = Lmer('y ~ 1 + x1 + x2 + ...xj + (1|state)', data=your_data)`\n",
        "\n",
        "Map your state-level random effect for the intercept, and explain your MLM model output.\n",
        "\n",
        "**Model 3 (30%):** Fit an MLM with varying intercept and both fixed and random effect for your independent variables (a varying intercept + slope model) as follows:\n",
        "\n",
        "`model3 = Lmer('y ~ 1 + x1 + x2 + ...xj + (1 + x1 + x2 + ...xj|state)', data=your_data)`\n",
        "\n",
        "Map all of your state-level random effects, and explain your MLM model output.\n",
        "\n",
        "**Final comparison (10%):** compare AIC, conditional and marginal R2 in three models.\n",
        "\n",
        "Note: replace x1, x2... in the model with the column name of your independent variable.\n"
      ],
      "metadata": {
        "id": "nlUts3saotCm"
      }
    },
    {
      "cell_type": "code",
      "source": [
        "pip install -q pymer4==0.7.8"
      ],
      "metadata": {
        "id": "wTzyjbOwobcs",
        "colab": {
          "base_uri": "https://localhost:8080/"
        },
        "outputId": "6bb440b6-5cef-4cde-c851-f712ff9cc31c"
      },
      "execution_count": null,
      "outputs": [
        {
          "output_type": "stream",
          "name": "stdout",
          "text": [
            "\u001b[2K     \u001b[90m━━━━━━━━━━━━━━━━━━━━━━━━━━━━━━━━━━━━━━━━\u001b[0m \u001b[32m59.0/59.0 kB\u001b[0m \u001b[31m769.9 kB/s\u001b[0m eta \u001b[36m0:00:00\u001b[0m\n",
            "\u001b[2K     \u001b[90m━━━━━━━━━━━━━━━━━━━━━━━━━━━━━━━━━━━━━━━━\u001b[0m \u001b[32m194.4/194.4 kB\u001b[0m \u001b[31m6.0 MB/s\u001b[0m eta \u001b[36m0:00:00\u001b[0m\n",
            "\u001b[?25h  Preparing metadata (setup.py) ... \u001b[?25l\u001b[?25hdone\n",
            "  Building wheel for rpy2 (setup.py) ... \u001b[?25l\u001b[?25hdone\n"
          ]
        }
      ]
    },
    {
      "cell_type": "code",
      "source": [
        "!pip install -q libpysal"
      ],
      "metadata": {
        "id": "puP2fg_hXSiJ",
        "colab": {
          "base_uri": "https://localhost:8080/"
        },
        "outputId": "f1fd5fd3-c824-4c16-95cc-37379dcff586"
      },
      "execution_count": null,
      "outputs": [
        {
          "output_type": "stream",
          "name": "stdout",
          "text": [
            "\u001b[?25l     \u001b[90m━━━━━━━━━━━━━━━━━━━━━━━━━━━━━━━━━━━━━━━━\u001b[0m \u001b[32m0.0/2.8 MB\u001b[0m \u001b[31m?\u001b[0m eta \u001b[36m-:--:--\u001b[0m\r\u001b[2K     \u001b[91m╸\u001b[0m\u001b[90m━━━━━━━━━━━━━━━━━━━━━━━━━━━━━━━━━━━━━━━\u001b[0m \u001b[32m0.1/2.8 MB\u001b[0m \u001b[31m1.6 MB/s\u001b[0m eta \u001b[36m0:00:02\u001b[0m\r\u001b[2K     \u001b[91m━━━━━━\u001b[0m\u001b[91m╸\u001b[0m\u001b[90m━━━━━━━━━━━━━━━━━━━━━━━━━━━━━━━━━\u001b[0m \u001b[32m0.5/2.8 MB\u001b[0m \u001b[31m6.6 MB/s\u001b[0m eta \u001b[36m0:00:01\u001b[0m\r\u001b[2K     \u001b[91m━━━━━━━━━━━━━━\u001b[0m\u001b[91m╸\u001b[0m\u001b[90m━━━━━━━━━━━━━━━━━━━━━━━━━\u001b[0m \u001b[32m1.0/2.8 MB\u001b[0m \u001b[31m9.6 MB/s\u001b[0m eta \u001b[36m0:00:01\u001b[0m\r\u001b[2K     \u001b[91m━━━━━━━━━━━━━━━━━━━━━━━\u001b[0m\u001b[91m╸\u001b[0m\u001b[90m━━━━━━━━━━━━━━━━\u001b[0m \u001b[32m1.6/2.8 MB\u001b[0m \u001b[31m11.4 MB/s\u001b[0m eta \u001b[36m0:00:01\u001b[0m\r\u001b[2K     \u001b[91m━━━━━━━━━━━━━━━━━━━━━━━━━━━━━━━━━\u001b[0m\u001b[90m╺\u001b[0m\u001b[90m━━━━━━\u001b[0m \u001b[32m2.3/2.8 MB\u001b[0m \u001b[31m12.9 MB/s\u001b[0m eta \u001b[36m0:00:01\u001b[0m\r\u001b[2K     \u001b[91m━━━━━━━━━━━━━━━━━━━━━━━━━━━━━━━━━━━━━━━\u001b[0m\u001b[91m╸\u001b[0m \u001b[32m2.8/2.8 MB\u001b[0m \u001b[31m13.7 MB/s\u001b[0m eta \u001b[36m0:00:01\u001b[0m\r\u001b[2K     \u001b[90m━━━━━━━━━━━━━━━━━━━━━━━━━━━━━━━━━━━━━━━━\u001b[0m \u001b[32m2.8/2.8 MB\u001b[0m \u001b[31m12.4 MB/s\u001b[0m eta \u001b[36m0:00:00\u001b[0m\n",
            "\u001b[?25h"
          ]
        }
      ]
    },
    {
      "cell_type": "code",
      "source": [
        "pip install -q esda"
      ],
      "metadata": {
        "id": "_kwWlnkJXscA",
        "colab": {
          "base_uri": "https://localhost:8080/"
        },
        "outputId": "75224c43-491d-4b4c-a789-01c3a0312e86"
      },
      "execution_count": null,
      "outputs": [
        {
          "output_type": "stream",
          "name": "stdout",
          "text": [
            "\u001b[?25l     \u001b[90m━━━━━━━━━━━━━━━━━━━━━━━━━━━━━━━━━━━━━━━━\u001b[0m \u001b[32m0.0/132.4 kB\u001b[0m \u001b[31m?\u001b[0m eta \u001b[36m-:--:--\u001b[0m\r\u001b[2K     \u001b[91m━━━━━━━━━━━━━━━━━━━━━━━━━━━\u001b[0m\u001b[91m╸\u001b[0m\u001b[90m━━━━━━━━━━━━\u001b[0m \u001b[32m92.2/132.4 kB\u001b[0m \u001b[31m2.7 MB/s\u001b[0m eta \u001b[36m0:00:01\u001b[0m\r\u001b[2K     \u001b[90m━━━━━━━━━━━━━━━━━━━━━━━━━━━━━━━━━━━━━━━━\u001b[0m \u001b[32m132.4/132.4 kB\u001b[0m \u001b[31m2.7 MB/s\u001b[0m eta \u001b[36m0:00:00\u001b[0m\n",
            "\u001b[?25h"
          ]
        }
      ]
    },
    {
      "cell_type": "code",
      "source": [
        "!pip install pandas==1.3.5\n"
      ],
      "metadata": {
        "colab": {
          "base_uri": "https://localhost:8080/"
        },
        "id": "BMHABTsJ6le-",
        "outputId": "3ed6bdae-5090-4669-aec8-81a488fe3560"
      },
      "execution_count": null,
      "outputs": [
        {
          "output_type": "stream",
          "name": "stdout",
          "text": [
            "Collecting pandas==1.3.5\n",
            "  Downloading pandas-1.3.5-cp310-cp310-manylinux_2_17_x86_64.manylinux2014_x86_64.whl (11.5 MB)\n",
            "\u001b[2K     \u001b[90m━━━━━━━━━━━━━━━━━━━━━━━━━━━━━━━━━━━━━━━━\u001b[0m \u001b[32m11.5/11.5 MB\u001b[0m \u001b[31m20.7 MB/s\u001b[0m eta \u001b[36m0:00:00\u001b[0m\n",
            "\u001b[?25hRequirement already satisfied: python-dateutil>=2.7.3 in /usr/local/lib/python3.10/dist-packages (from pandas==1.3.5) (2.8.2)\n",
            "Requirement already satisfied: pytz>=2017.3 in /usr/local/lib/python3.10/dist-packages (from pandas==1.3.5) (2023.4)\n",
            "Requirement already satisfied: numpy>=1.21.0 in /usr/local/lib/python3.10/dist-packages (from pandas==1.3.5) (1.25.2)\n",
            "Requirement already satisfied: six>=1.5 in /usr/local/lib/python3.10/dist-packages (from python-dateutil>=2.7.3->pandas==1.3.5) (1.16.0)\n",
            "\u001b[31mERROR: Operation cancelled by user\u001b[0m\u001b[31m\n",
            "\u001b[0m"
          ]
        }
      ]
    },
    {
      "cell_type": "code",
      "source": [
        "import rpy2.ipython\n",
        "%load_ext rpy2.ipython\n",
        "\n",
        "import logging\n",
        "# Suppress Python warnings for rpy2 callbacks\n",
        "logging.getLogger('rpy2.rinterface_lib.callbacks').setLevel(logging.ERROR)"
      ],
      "metadata": {
        "id": "CXuUWYtnok8B"
      },
      "execution_count": null,
      "outputs": []
    },
    {
      "cell_type": "code",
      "source": [
        "%%time\n",
        "#This may take a while (~5 mins)\n",
        "%R install.packages(\"lme4\")\n",
        "%R install.packages(\"lmerTest\");"
      ],
      "metadata": {
        "colab": {
          "base_uri": "https://localhost:8080/"
        },
        "id": "vkmQz2buomEm",
        "outputId": "bf6451f7-742a-4d72-e772-1cc1445a1a8b"
      },
      "execution_count": null,
      "outputs": [
        {
          "output_type": "stream",
          "name": "stdout",
          "text": [
            "CPU times: user 3.41 s, sys: 376 ms, total: 3.79 s\n",
            "Wall time: 5min 14s\n"
          ]
        }
      ]
    },
    {
      "cell_type": "code",
      "source": [
        "import warnings\n",
        "\n",
        "import numpy as np\n",
        "import matplotlib.pyplot as plt\n",
        "import geopandas as gpd\n",
        "import pandas as pd\n",
        "import libpysal as ps\n",
        "from libpysal.weights import Queen\n",
        "from esda.moran import Moran\n",
        "\n",
        "from pymer4.models import Lmer"
      ],
      "metadata": {
        "id": "jRXpeI4SXGKs"
      },
      "execution_count": null,
      "outputs": []
    },
    {
      "cell_type": "markdown",
      "source": [
        "Code to read in data and merge them into one final `GeoDataFrame`."
      ],
      "metadata": {
        "id": "4DoUQPHTy039"
      }
    },
    {
      "cell_type": "code",
      "source": [
        "health_url = \"https://raw.github.com/Ziqi-Li/GIS5122/main/data/cdc_health_county.csv\"\n",
        "health = pd.read_csv(health_url)\n",
        "health"
      ],
      "metadata": {
        "id": "BZCRG_jmy0Zx",
        "colab": {
          "base_uri": "https://localhost:8080/",
          "height": 444
        },
        "outputId": "440899a3-5f51-4566-ed5a-27e97c996245"
      },
      "execution_count": null,
      "outputs": [
        {
          "output_type": "execute_result",
          "data": {
            "text/plain": [
              "      LocationID  ACCESS2  ARTHRITIS  BINGE  CANCER  CASTHMA  CERVICAL  CHD  \\\n",
              "0           1001     14.3       29.3   14.1     6.5     10.2      86.4  6.9   \n",
              "1           1003     13.6       27.3   17.3     6.7      9.6      87.3  6.0   \n",
              "2           1005     21.8       33.2   12.3     6.1     11.7      84.1  9.0   \n",
              "3           1007     17.3       30.6   15.0     6.4     10.3      84.8  7.6   \n",
              "4           1009     17.0       30.1   15.1     6.6     10.2      84.1  7.5   \n",
              "...          ...      ...        ...    ...     ...      ...       ...  ...   \n",
              "3137       56037     17.7       24.6   18.6     6.5      9.0      83.7  5.7   \n",
              "3138       56039     13.1       18.9   20.3     6.4      8.0      86.9  4.8   \n",
              "3139       56041     17.9       22.9   17.4     6.4      9.6      81.8  6.3   \n",
              "3140       56043     18.0       22.6   18.3     6.4      9.3      83.3  5.9   \n",
              "3141       56045     16.6       24.0   18.7     6.4      9.3      82.8  6.3   \n",
              "\n",
              "      CHECKUP  COLON_SCREEN  ...  DIABETES  KIDNEY   LPA  MAMMOUSE  MHLTH  \\\n",
              "0        77.0          69.5  ...      11.3     2.8  26.4      77.5   15.8   \n",
              "1        75.7          67.5  ...       9.5     2.6  23.5      74.0   14.8   \n",
              "2        78.5          62.1  ...      16.9     3.9  36.8      75.9   19.0   \n",
              "3        76.3          65.7  ...      12.6     3.0  31.2      73.3   17.1   \n",
              "4        74.2          63.9  ...      11.3     2.9  30.1      71.5   17.1   \n",
              "...       ...           ...  ...       ...     ...   ...       ...    ...   \n",
              "3137     66.4          56.3  ...       8.5     2.5  23.6      63.7   12.8   \n",
              "3138     67.2          63.4  ...       6.6     2.2  16.2      70.5   10.2   \n",
              "3139     65.2          54.4  ...       9.1     2.7  24.3      61.1   14.2   \n",
              "3140     65.8          53.5  ...       8.6     2.6  22.7      63.6   13.3   \n",
              "3141     64.7          51.9  ...       8.9     2.6  23.6      60.7   13.6   \n",
              "\n",
              "      OBESITY  PHLTH  SLEEP  STROKE  TEETHLOST  \n",
              "0        35.5   13.3   38.4     3.4       16.3  \n",
              "1        29.4   11.6   36.4     3.0       13.4  \n",
              "2        40.8   18.1   40.9     5.1       27.1  \n",
              "3        38.4   15.1   40.1     3.8       20.7  \n",
              "4        33.7   14.8   38.8     3.5       19.3  \n",
              "...       ...    ...    ...     ...        ...  \n",
              "3137     33.2   11.5   35.4     2.9       15.7  \n",
              "3138     18.8    8.9   27.1     2.3        9.9  \n",
              "3139     33.6   12.5   35.9     3.1       19.1  \n",
              "3140     28.3   11.7   32.4     3.0       16.3  \n",
              "3141     34.2   12.4   34.5     3.1       18.0  \n",
              "\n",
              "[3142 rows x 25 columns]"
            ],
            "text/html": [
              "\n",
              "  <div id=\"df-b32cc415-04c4-4827-a76b-9dceadb50ec7\" class=\"colab-df-container\">\n",
              "    <div>\n",
              "<style scoped>\n",
              "    .dataframe tbody tr th:only-of-type {\n",
              "        vertical-align: middle;\n",
              "    }\n",
              "\n",
              "    .dataframe tbody tr th {\n",
              "        vertical-align: top;\n",
              "    }\n",
              "\n",
              "    .dataframe thead th {\n",
              "        text-align: right;\n",
              "    }\n",
              "</style>\n",
              "<table border=\"1\" class=\"dataframe\">\n",
              "  <thead>\n",
              "    <tr style=\"text-align: right;\">\n",
              "      <th></th>\n",
              "      <th>LocationID</th>\n",
              "      <th>ACCESS2</th>\n",
              "      <th>ARTHRITIS</th>\n",
              "      <th>BINGE</th>\n",
              "      <th>CANCER</th>\n",
              "      <th>CASTHMA</th>\n",
              "      <th>CERVICAL</th>\n",
              "      <th>CHD</th>\n",
              "      <th>CHECKUP</th>\n",
              "      <th>COLON_SCREEN</th>\n",
              "      <th>...</th>\n",
              "      <th>DIABETES</th>\n",
              "      <th>KIDNEY</th>\n",
              "      <th>LPA</th>\n",
              "      <th>MAMMOUSE</th>\n",
              "      <th>MHLTH</th>\n",
              "      <th>OBESITY</th>\n",
              "      <th>PHLTH</th>\n",
              "      <th>SLEEP</th>\n",
              "      <th>STROKE</th>\n",
              "      <th>TEETHLOST</th>\n",
              "    </tr>\n",
              "  </thead>\n",
              "  <tbody>\n",
              "    <tr>\n",
              "      <th>0</th>\n",
              "      <td>1001</td>\n",
              "      <td>14.3</td>\n",
              "      <td>29.3</td>\n",
              "      <td>14.1</td>\n",
              "      <td>6.5</td>\n",
              "      <td>10.2</td>\n",
              "      <td>86.4</td>\n",
              "      <td>6.9</td>\n",
              "      <td>77.0</td>\n",
              "      <td>69.5</td>\n",
              "      <td>...</td>\n",
              "      <td>11.3</td>\n",
              "      <td>2.8</td>\n",
              "      <td>26.4</td>\n",
              "      <td>77.5</td>\n",
              "      <td>15.8</td>\n",
              "      <td>35.5</td>\n",
              "      <td>13.3</td>\n",
              "      <td>38.4</td>\n",
              "      <td>3.4</td>\n",
              "      <td>16.3</td>\n",
              "    </tr>\n",
              "    <tr>\n",
              "      <th>1</th>\n",
              "      <td>1003</td>\n",
              "      <td>13.6</td>\n",
              "      <td>27.3</td>\n",
              "      <td>17.3</td>\n",
              "      <td>6.7</td>\n",
              "      <td>9.6</td>\n",
              "      <td>87.3</td>\n",
              "      <td>6.0</td>\n",
              "      <td>75.7</td>\n",
              "      <td>67.5</td>\n",
              "      <td>...</td>\n",
              "      <td>9.5</td>\n",
              "      <td>2.6</td>\n",
              "      <td>23.5</td>\n",
              "      <td>74.0</td>\n",
              "      <td>14.8</td>\n",
              "      <td>29.4</td>\n",
              "      <td>11.6</td>\n",
              "      <td>36.4</td>\n",
              "      <td>3.0</td>\n",
              "      <td>13.4</td>\n",
              "    </tr>\n",
              "    <tr>\n",
              "      <th>2</th>\n",
              "      <td>1005</td>\n",
              "      <td>21.8</td>\n",
              "      <td>33.2</td>\n",
              "      <td>12.3</td>\n",
              "      <td>6.1</td>\n",
              "      <td>11.7</td>\n",
              "      <td>84.1</td>\n",
              "      <td>9.0</td>\n",
              "      <td>78.5</td>\n",
              "      <td>62.1</td>\n",
              "      <td>...</td>\n",
              "      <td>16.9</td>\n",
              "      <td>3.9</td>\n",
              "      <td>36.8</td>\n",
              "      <td>75.9</td>\n",
              "      <td>19.0</td>\n",
              "      <td>40.8</td>\n",
              "      <td>18.1</td>\n",
              "      <td>40.9</td>\n",
              "      <td>5.1</td>\n",
              "      <td>27.1</td>\n",
              "    </tr>\n",
              "    <tr>\n",
              "      <th>3</th>\n",
              "      <td>1007</td>\n",
              "      <td>17.3</td>\n",
              "      <td>30.6</td>\n",
              "      <td>15.0</td>\n",
              "      <td>6.4</td>\n",
              "      <td>10.3</td>\n",
              "      <td>84.8</td>\n",
              "      <td>7.6</td>\n",
              "      <td>76.3</td>\n",
              "      <td>65.7</td>\n",
              "      <td>...</td>\n",
              "      <td>12.6</td>\n",
              "      <td>3.0</td>\n",
              "      <td>31.2</td>\n",
              "      <td>73.3</td>\n",
              "      <td>17.1</td>\n",
              "      <td>38.4</td>\n",
              "      <td>15.1</td>\n",
              "      <td>40.1</td>\n",
              "      <td>3.8</td>\n",
              "      <td>20.7</td>\n",
              "    </tr>\n",
              "    <tr>\n",
              "      <th>4</th>\n",
              "      <td>1009</td>\n",
              "      <td>17.0</td>\n",
              "      <td>30.1</td>\n",
              "      <td>15.1</td>\n",
              "      <td>6.6</td>\n",
              "      <td>10.2</td>\n",
              "      <td>84.1</td>\n",
              "      <td>7.5</td>\n",
              "      <td>74.2</td>\n",
              "      <td>63.9</td>\n",
              "      <td>...</td>\n",
              "      <td>11.3</td>\n",
              "      <td>2.9</td>\n",
              "      <td>30.1</td>\n",
              "      <td>71.5</td>\n",
              "      <td>17.1</td>\n",
              "      <td>33.7</td>\n",
              "      <td>14.8</td>\n",
              "      <td>38.8</td>\n",
              "      <td>3.5</td>\n",
              "      <td>19.3</td>\n",
              "    </tr>\n",
              "    <tr>\n",
              "      <th>...</th>\n",
              "      <td>...</td>\n",
              "      <td>...</td>\n",
              "      <td>...</td>\n",
              "      <td>...</td>\n",
              "      <td>...</td>\n",
              "      <td>...</td>\n",
              "      <td>...</td>\n",
              "      <td>...</td>\n",
              "      <td>...</td>\n",
              "      <td>...</td>\n",
              "      <td>...</td>\n",
              "      <td>...</td>\n",
              "      <td>...</td>\n",
              "      <td>...</td>\n",
              "      <td>...</td>\n",
              "      <td>...</td>\n",
              "      <td>...</td>\n",
              "      <td>...</td>\n",
              "      <td>...</td>\n",
              "      <td>...</td>\n",
              "      <td>...</td>\n",
              "    </tr>\n",
              "    <tr>\n",
              "      <th>3137</th>\n",
              "      <td>56037</td>\n",
              "      <td>17.7</td>\n",
              "      <td>24.6</td>\n",
              "      <td>18.6</td>\n",
              "      <td>6.5</td>\n",
              "      <td>9.0</td>\n",
              "      <td>83.7</td>\n",
              "      <td>5.7</td>\n",
              "      <td>66.4</td>\n",
              "      <td>56.3</td>\n",
              "      <td>...</td>\n",
              "      <td>8.5</td>\n",
              "      <td>2.5</td>\n",
              "      <td>23.6</td>\n",
              "      <td>63.7</td>\n",
              "      <td>12.8</td>\n",
              "      <td>33.2</td>\n",
              "      <td>11.5</td>\n",
              "      <td>35.4</td>\n",
              "      <td>2.9</td>\n",
              "      <td>15.7</td>\n",
              "    </tr>\n",
              "    <tr>\n",
              "      <th>3138</th>\n",
              "      <td>56039</td>\n",
              "      <td>13.1</td>\n",
              "      <td>18.9</td>\n",
              "      <td>20.3</td>\n",
              "      <td>6.4</td>\n",
              "      <td>8.0</td>\n",
              "      <td>86.9</td>\n",
              "      <td>4.8</td>\n",
              "      <td>67.2</td>\n",
              "      <td>63.4</td>\n",
              "      <td>...</td>\n",
              "      <td>6.6</td>\n",
              "      <td>2.2</td>\n",
              "      <td>16.2</td>\n",
              "      <td>70.5</td>\n",
              "      <td>10.2</td>\n",
              "      <td>18.8</td>\n",
              "      <td>8.9</td>\n",
              "      <td>27.1</td>\n",
              "      <td>2.3</td>\n",
              "      <td>9.9</td>\n",
              "    </tr>\n",
              "    <tr>\n",
              "      <th>3139</th>\n",
              "      <td>56041</td>\n",
              "      <td>17.9</td>\n",
              "      <td>22.9</td>\n",
              "      <td>17.4</td>\n",
              "      <td>6.4</td>\n",
              "      <td>9.6</td>\n",
              "      <td>81.8</td>\n",
              "      <td>6.3</td>\n",
              "      <td>65.2</td>\n",
              "      <td>54.4</td>\n",
              "      <td>...</td>\n",
              "      <td>9.1</td>\n",
              "      <td>2.7</td>\n",
              "      <td>24.3</td>\n",
              "      <td>61.1</td>\n",
              "      <td>14.2</td>\n",
              "      <td>33.6</td>\n",
              "      <td>12.5</td>\n",
              "      <td>35.9</td>\n",
              "      <td>3.1</td>\n",
              "      <td>19.1</td>\n",
              "    </tr>\n",
              "    <tr>\n",
              "      <th>3140</th>\n",
              "      <td>56043</td>\n",
              "      <td>18.0</td>\n",
              "      <td>22.6</td>\n",
              "      <td>18.3</td>\n",
              "      <td>6.4</td>\n",
              "      <td>9.3</td>\n",
              "      <td>83.3</td>\n",
              "      <td>5.9</td>\n",
              "      <td>65.8</td>\n",
              "      <td>53.5</td>\n",
              "      <td>...</td>\n",
              "      <td>8.6</td>\n",
              "      <td>2.6</td>\n",
              "      <td>22.7</td>\n",
              "      <td>63.6</td>\n",
              "      <td>13.3</td>\n",
              "      <td>28.3</td>\n",
              "      <td>11.7</td>\n",
              "      <td>32.4</td>\n",
              "      <td>3.0</td>\n",
              "      <td>16.3</td>\n",
              "    </tr>\n",
              "    <tr>\n",
              "      <th>3141</th>\n",
              "      <td>56045</td>\n",
              "      <td>16.6</td>\n",
              "      <td>24.0</td>\n",
              "      <td>18.7</td>\n",
              "      <td>6.4</td>\n",
              "      <td>9.3</td>\n",
              "      <td>82.8</td>\n",
              "      <td>6.3</td>\n",
              "      <td>64.7</td>\n",
              "      <td>51.9</td>\n",
              "      <td>...</td>\n",
              "      <td>8.9</td>\n",
              "      <td>2.6</td>\n",
              "      <td>23.6</td>\n",
              "      <td>60.7</td>\n",
              "      <td>13.6</td>\n",
              "      <td>34.2</td>\n",
              "      <td>12.4</td>\n",
              "      <td>34.5</td>\n",
              "      <td>3.1</td>\n",
              "      <td>18.0</td>\n",
              "    </tr>\n",
              "  </tbody>\n",
              "</table>\n",
              "<p>3142 rows × 25 columns</p>\n",
              "</div>\n",
              "    <div class=\"colab-df-buttons\">\n",
              "\n",
              "  <div class=\"colab-df-container\">\n",
              "    <button class=\"colab-df-convert\" onclick=\"convertToInteractive('df-b32cc415-04c4-4827-a76b-9dceadb50ec7')\"\n",
              "            title=\"Convert this dataframe to an interactive table.\"\n",
              "            style=\"display:none;\">\n",
              "\n",
              "  <svg xmlns=\"http://www.w3.org/2000/svg\" height=\"24px\" viewBox=\"0 -960 960 960\">\n",
              "    <path d=\"M120-120v-720h720v720H120Zm60-500h600v-160H180v160Zm220 220h160v-160H400v160Zm0 220h160v-160H400v160ZM180-400h160v-160H180v160Zm440 0h160v-160H620v160ZM180-180h160v-160H180v160Zm440 0h160v-160H620v160Z\"/>\n",
              "  </svg>\n",
              "    </button>\n",
              "\n",
              "  <style>\n",
              "    .colab-df-container {\n",
              "      display:flex;\n",
              "      gap: 12px;\n",
              "    }\n",
              "\n",
              "    .colab-df-convert {\n",
              "      background-color: #E8F0FE;\n",
              "      border: none;\n",
              "      border-radius: 50%;\n",
              "      cursor: pointer;\n",
              "      display: none;\n",
              "      fill: #1967D2;\n",
              "      height: 32px;\n",
              "      padding: 0 0 0 0;\n",
              "      width: 32px;\n",
              "    }\n",
              "\n",
              "    .colab-df-convert:hover {\n",
              "      background-color: #E2EBFA;\n",
              "      box-shadow: 0px 1px 2px rgba(60, 64, 67, 0.3), 0px 1px 3px 1px rgba(60, 64, 67, 0.15);\n",
              "      fill: #174EA6;\n",
              "    }\n",
              "\n",
              "    .colab-df-buttons div {\n",
              "      margin-bottom: 4px;\n",
              "    }\n",
              "\n",
              "    [theme=dark] .colab-df-convert {\n",
              "      background-color: #3B4455;\n",
              "      fill: #D2E3FC;\n",
              "    }\n",
              "\n",
              "    [theme=dark] .colab-df-convert:hover {\n",
              "      background-color: #434B5C;\n",
              "      box-shadow: 0px 1px 3px 1px rgba(0, 0, 0, 0.15);\n",
              "      filter: drop-shadow(0px 1px 2px rgba(0, 0, 0, 0.3));\n",
              "      fill: #FFFFFF;\n",
              "    }\n",
              "  </style>\n",
              "\n",
              "    <script>\n",
              "      const buttonEl =\n",
              "        document.querySelector('#df-b32cc415-04c4-4827-a76b-9dceadb50ec7 button.colab-df-convert');\n",
              "      buttonEl.style.display =\n",
              "        google.colab.kernel.accessAllowed ? 'block' : 'none';\n",
              "\n",
              "      async function convertToInteractive(key) {\n",
              "        const element = document.querySelector('#df-b32cc415-04c4-4827-a76b-9dceadb50ec7');\n",
              "        const dataTable =\n",
              "          await google.colab.kernel.invokeFunction('convertToInteractive',\n",
              "                                                    [key], {});\n",
              "        if (!dataTable) return;\n",
              "\n",
              "        const docLinkHtml = 'Like what you see? Visit the ' +\n",
              "          '<a target=\"_blank\" href=https://colab.research.google.com/notebooks/data_table.ipynb>data table notebook</a>'\n",
              "          + ' to learn more about interactive tables.';\n",
              "        element.innerHTML = '';\n",
              "        dataTable['output_type'] = 'display_data';\n",
              "        await google.colab.output.renderOutput(dataTable, element);\n",
              "        const docLink = document.createElement('div');\n",
              "        docLink.innerHTML = docLinkHtml;\n",
              "        element.appendChild(docLink);\n",
              "      }\n",
              "    </script>\n",
              "  </div>\n",
              "\n",
              "\n",
              "<div id=\"df-291b3a42-456c-4174-a39e-97af21a582a4\">\n",
              "  <button class=\"colab-df-quickchart\" onclick=\"quickchart('df-291b3a42-456c-4174-a39e-97af21a582a4')\"\n",
              "            title=\"Suggest charts\"\n",
              "            style=\"display:none;\">\n",
              "\n",
              "<svg xmlns=\"http://www.w3.org/2000/svg\" height=\"24px\"viewBox=\"0 0 24 24\"\n",
              "     width=\"24px\">\n",
              "    <g>\n",
              "        <path d=\"M19 3H5c-1.1 0-2 .9-2 2v14c0 1.1.9 2 2 2h14c1.1 0 2-.9 2-2V5c0-1.1-.9-2-2-2zM9 17H7v-7h2v7zm4 0h-2V7h2v10zm4 0h-2v-4h2v4z\"/>\n",
              "    </g>\n",
              "</svg>\n",
              "  </button>\n",
              "\n",
              "<style>\n",
              "  .colab-df-quickchart {\n",
              "      --bg-color: #E8F0FE;\n",
              "      --fill-color: #1967D2;\n",
              "      --hover-bg-color: #E2EBFA;\n",
              "      --hover-fill-color: #174EA6;\n",
              "      --disabled-fill-color: #AAA;\n",
              "      --disabled-bg-color: #DDD;\n",
              "  }\n",
              "\n",
              "  [theme=dark] .colab-df-quickchart {\n",
              "      --bg-color: #3B4455;\n",
              "      --fill-color: #D2E3FC;\n",
              "      --hover-bg-color: #434B5C;\n",
              "      --hover-fill-color: #FFFFFF;\n",
              "      --disabled-bg-color: #3B4455;\n",
              "      --disabled-fill-color: #666;\n",
              "  }\n",
              "\n",
              "  .colab-df-quickchart {\n",
              "    background-color: var(--bg-color);\n",
              "    border: none;\n",
              "    border-radius: 50%;\n",
              "    cursor: pointer;\n",
              "    display: none;\n",
              "    fill: var(--fill-color);\n",
              "    height: 32px;\n",
              "    padding: 0;\n",
              "    width: 32px;\n",
              "  }\n",
              "\n",
              "  .colab-df-quickchart:hover {\n",
              "    background-color: var(--hover-bg-color);\n",
              "    box-shadow: 0 1px 2px rgba(60, 64, 67, 0.3), 0 1px 3px 1px rgba(60, 64, 67, 0.15);\n",
              "    fill: var(--button-hover-fill-color);\n",
              "  }\n",
              "\n",
              "  .colab-df-quickchart-complete:disabled,\n",
              "  .colab-df-quickchart-complete:disabled:hover {\n",
              "    background-color: var(--disabled-bg-color);\n",
              "    fill: var(--disabled-fill-color);\n",
              "    box-shadow: none;\n",
              "  }\n",
              "\n",
              "  .colab-df-spinner {\n",
              "    border: 2px solid var(--fill-color);\n",
              "    border-color: transparent;\n",
              "    border-bottom-color: var(--fill-color);\n",
              "    animation:\n",
              "      spin 1s steps(1) infinite;\n",
              "  }\n",
              "\n",
              "  @keyframes spin {\n",
              "    0% {\n",
              "      border-color: transparent;\n",
              "      border-bottom-color: var(--fill-color);\n",
              "      border-left-color: var(--fill-color);\n",
              "    }\n",
              "    20% {\n",
              "      border-color: transparent;\n",
              "      border-left-color: var(--fill-color);\n",
              "      border-top-color: var(--fill-color);\n",
              "    }\n",
              "    30% {\n",
              "      border-color: transparent;\n",
              "      border-left-color: var(--fill-color);\n",
              "      border-top-color: var(--fill-color);\n",
              "      border-right-color: var(--fill-color);\n",
              "    }\n",
              "    40% {\n",
              "      border-color: transparent;\n",
              "      border-right-color: var(--fill-color);\n",
              "      border-top-color: var(--fill-color);\n",
              "    }\n",
              "    60% {\n",
              "      border-color: transparent;\n",
              "      border-right-color: var(--fill-color);\n",
              "    }\n",
              "    80% {\n",
              "      border-color: transparent;\n",
              "      border-right-color: var(--fill-color);\n",
              "      border-bottom-color: var(--fill-color);\n",
              "    }\n",
              "    90% {\n",
              "      border-color: transparent;\n",
              "      border-bottom-color: var(--fill-color);\n",
              "    }\n",
              "  }\n",
              "</style>\n",
              "\n",
              "  <script>\n",
              "    async function quickchart(key) {\n",
              "      const quickchartButtonEl =\n",
              "        document.querySelector('#' + key + ' button');\n",
              "      quickchartButtonEl.disabled = true;  // To prevent multiple clicks.\n",
              "      quickchartButtonEl.classList.add('colab-df-spinner');\n",
              "      try {\n",
              "        const charts = await google.colab.kernel.invokeFunction(\n",
              "            'suggestCharts', [key], {});\n",
              "      } catch (error) {\n",
              "        console.error('Error during call to suggestCharts:', error);\n",
              "      }\n",
              "      quickchartButtonEl.classList.remove('colab-df-spinner');\n",
              "      quickchartButtonEl.classList.add('colab-df-quickchart-complete');\n",
              "    }\n",
              "    (() => {\n",
              "      let quickchartButtonEl =\n",
              "        document.querySelector('#df-291b3a42-456c-4174-a39e-97af21a582a4 button');\n",
              "      quickchartButtonEl.style.display =\n",
              "        google.colab.kernel.accessAllowed ? 'block' : 'none';\n",
              "    })();\n",
              "  </script>\n",
              "</div>\n",
              "    </div>\n",
              "  </div>\n"
            ],
            "application/vnd.google.colaboratory.intrinsic+json": {
              "type": "dataframe",
              "variable_name": "health"
            }
          },
          "metadata": {},
          "execution_count": 19
        }
      ]
    },
    {
      "cell_type": "code",
      "source": [
        "socio_demo_url = \"https://raw.github.com/Ziqi-Li/GIS5122/main/data/acs_2019.csv\"\n",
        "socio_demo = pd.read_csv(socio_demo_url)"
      ],
      "metadata": {
        "id": "v1KGhaV1M4FG"
      },
      "execution_count": null,
      "outputs": []
    },
    {
      "cell_type": "code",
      "source": [
        "counties_url = \"https://raw.github.com/Ziqi-Li/gis5122/master/data/us_counties.geojson\"\n",
        "counties = gpd.read_file(counties_url)"
      ],
      "metadata": {
        "id": "flgMh4FA2R7k"
      },
      "execution_count": null,
      "outputs": []
    },
    {
      "cell_type": "code",
      "source": [
        "socio_demo_health = pd.merge(socio_demo, health, left_on = \"county_id\", right_on = \"LocationID\")"
      ],
      "metadata": {
        "id": "APDrEO1kzfDy"
      },
      "execution_count": null,
      "outputs": []
    },
    {
      "cell_type": "code",
      "source": [
        "print(gdf_socio_demo_health.columns)\n"
      ],
      "metadata": {
        "colab": {
          "base_uri": "https://localhost:8080/"
        },
        "id": "a9OGXIpoivE7",
        "outputId": "606f47d5-0e99-4fe3-a97f-99c2888d66d0"
      },
      "execution_count": null,
      "outputs": [
        {
          "output_type": "stream",
          "name": "stdout",
          "text": [
            "Index(['GEOID', 'STATEFP', 'NAME_x', 'county_id', 'geometry', 'state',\n",
            "       'county', 'NAME_y', 'proj_X', 'proj_Y', 'total_pop', 'sex_ratio',\n",
            "       'pct_black', 'pct_hisp', 'pct_bach', 'median_income', 'pct_65_over',\n",
            "       'pct_age_18_29', 'gini', 'pct_manuf', 'ln_pop_den', 'pct_fb',\n",
            "       'pct_uninsured', 'LocationID', 'ACCESS2', 'ARTHRITIS', 'BINGE',\n",
            "       'CANCER', 'CASTHMA', 'CERVICAL', 'CHD', 'CHECKUP', 'COLON_SCREEN',\n",
            "       'COPD', 'COREM', 'COREW', 'CSMOKING', 'DENTAL', 'DIABETES', 'KIDNEY',\n",
            "       'LPA', 'MAMMOUSE', 'MHLTH', 'OBESITY', 'PHLTH', 'SLEEP', 'STROKE',\n",
            "       'TEETHLOST'],\n",
            "      dtype='object')\n"
          ]
        }
      ]
    },
    {
      "cell_type": "code",
      "source": [
        "gdf_socio_demo_health = pd.merge(counties, socio_demo_health, on = \"county_id\")\n",
        "gdf_socio_demo_health[['median_income']] = gdf_socio_demo_health[['median_income']]/10000"
      ],
      "metadata": {
        "id": "v6Rn9zWTzfG8"
      },
      "execution_count": null,
      "outputs": []
    },
    {
      "cell_type": "code",
      "source": [
        "state = gdf_socio_demo_health.dissolve(by='STATEFP')"
      ],
      "metadata": {
        "id": "BiO8xmQQNvm1"
      },
      "execution_count": null,
      "outputs": []
    },
    {
      "cell_type": "code",
      "source": [
        "gdf_socio_demo_health"
      ],
      "metadata": {
        "id": "5C9hH4XouuR-"
      },
      "execution_count": null,
      "outputs": []
    },
    {
      "cell_type": "markdown",
      "source": [
        "Your code will start here, and your analysis will be based on this GeoDataFrame `gdf_income_health`."
      ],
      "metadata": {
        "id": "IOSNbM0q2vi9"
      }
    },
    {
      "cell_type": "markdown",
      "source": [
        "# **Model 1 (30%): Fit an MLM with varying intercept only (no Xs) as follows**\n",
        "\n",
        "model1 = Lmer('y ~ 1 + (1|state)', data=your_data)\n",
        "\n",
        "Describe your model output and calculate the Variance Partition Coefficient (VPC), explain your results."
      ],
      "metadata": {
        "id": "PWoz_A22ovmM"
      }
    },
    {
      "cell_type": "code",
      "source": [
        "gdf_socio_demo_health_df = gdf_socio_demo_health.drop(columns = 'geometry')"
      ],
      "metadata": {
        "id": "P7ihwHQCGPva"
      },
      "execution_count": null,
      "outputs": []
    },
    {
      "cell_type": "code",
      "source": [
        "state = gdf_socio_demo_health.dissolve(by='STATEFP').geometry.boundary"
      ],
      "metadata": {
        "id": "tbgq4cLmzfOV"
      },
      "execution_count": null,
      "outputs": []
    },
    {
      "cell_type": "code",
      "source": [
        "model_1 = Lmer('OBESITY ~ 1 + (1|state)', data = gdf_socio_demo_health_df)"
      ],
      "metadata": {
        "id": "XmZu4CGmEj2q"
      },
      "execution_count": null,
      "outputs": []
    },
    {
      "cell_type": "code",
      "source": [
        "model_1.fit()"
      ],
      "metadata": {
        "colab": {
          "base_uri": "https://localhost:8080/",
          "height": 287
        },
        "id": "MS84SEfN2Q_T",
        "outputId": "fda82e2f-5020-4dac-8d4d-c0dea5e38b4d"
      },
      "execution_count": null,
      "outputs": [
        {
          "output_type": "error",
          "ename": "AttributeError",
          "evalue": "'DataFrame' object has no attribute 'iteritems'",
          "traceback": [
            "\u001b[0;31m---------------------------------------------------------------------------\u001b[0m",
            "\u001b[0;31mAttributeError\u001b[0m                            Traceback (most recent call last)",
            "\u001b[0;32m<ipython-input-17-f80a5690e74a>\u001b[0m in \u001b[0;36m<cell line: 1>\u001b[0;34m()\u001b[0m\n\u001b[0;32m----> 1\u001b[0;31m \u001b[0mmodel_1\u001b[0m\u001b[0;34m.\u001b[0m\u001b[0mfit\u001b[0m\u001b[0;34m(\u001b[0m\u001b[0;34m)\u001b[0m\u001b[0;34m\u001b[0m\u001b[0;34m\u001b[0m\u001b[0m\n\u001b[0m",
            "\u001b[0;32m/usr/local/lib/python3.10/dist-packages/pymer4/models/Lmer.py\u001b[0m in \u001b[0;36mfit\u001b[0;34m(self, conf_int, n_boot, factors, permute, ordered, verbose, REML, rank, rank_group, rank_exclude_cols, no_warnings, control, old_optimizer, **kwargs)\u001b[0m\n\u001b[1;32m    408\u001b[0m                 \u001b[0mself\u001b[0m\u001b[0;34m.\u001b[0m\u001b[0msig_type\u001b[0m \u001b[0;34m=\u001b[0m \u001b[0;34m\"parametric\"\u001b[0m\u001b[0;34m\u001b[0m\u001b[0;34m\u001b[0m\u001b[0m\n\u001b[1;32m    409\u001b[0m \u001b[0;34m\u001b[0m\u001b[0m\n\u001b[0;32m--> 410\u001b[0;31m         \u001b[0mdata\u001b[0m \u001b[0;34m=\u001b[0m \u001b[0mpandas2R\u001b[0m\u001b[0;34m(\u001b[0m\u001b[0mdat\u001b[0m\u001b[0;34m)\u001b[0m\u001b[0;34m\u001b[0m\u001b[0;34m\u001b[0m\u001b[0m\n\u001b[0m\u001b[1;32m    411\u001b[0m \u001b[0;34m\u001b[0m\u001b[0m\n\u001b[1;32m    412\u001b[0m         \u001b[0;32mif\u001b[0m \u001b[0mself\u001b[0m\u001b[0;34m.\u001b[0m\u001b[0mfamily\u001b[0m \u001b[0;34m==\u001b[0m \u001b[0;34m\"gaussian\"\u001b[0m\u001b[0;34m:\u001b[0m\u001b[0;34m\u001b[0m\u001b[0;34m\u001b[0m\u001b[0m\n",
            "\u001b[0;32m/usr/local/lib/python3.10/dist-packages/pymer4/utils.py\u001b[0m in \u001b[0;36mpandas2R\u001b[0;34m(df)\u001b[0m\n\u001b[1;32m    576\u001b[0m     \u001b[0;34m\"\"\"Local conversion of pandas dataframe to R dataframe as recommended by rpy2\"\"\"\u001b[0m\u001b[0;34m\u001b[0m\u001b[0;34m\u001b[0m\u001b[0m\n\u001b[1;32m    577\u001b[0m     \u001b[0;32mwith\u001b[0m \u001b[0mlocalconverter\u001b[0m\u001b[0;34m(\u001b[0m\u001b[0mrobjects\u001b[0m\u001b[0;34m.\u001b[0m\u001b[0mdefault_converter\u001b[0m \u001b[0;34m+\u001b[0m \u001b[0mpandas2ri\u001b[0m\u001b[0;34m.\u001b[0m\u001b[0mconverter\u001b[0m\u001b[0;34m)\u001b[0m\u001b[0;34m:\u001b[0m\u001b[0;34m\u001b[0m\u001b[0;34m\u001b[0m\u001b[0m\n\u001b[0;32m--> 578\u001b[0;31m         \u001b[0mdata\u001b[0m \u001b[0;34m=\u001b[0m \u001b[0mrobjects\u001b[0m\u001b[0;34m.\u001b[0m\u001b[0mconversion\u001b[0m\u001b[0;34m.\u001b[0m\u001b[0mpy2rpy\u001b[0m\u001b[0;34m(\u001b[0m\u001b[0mdf\u001b[0m\u001b[0;34m)\u001b[0m\u001b[0;34m\u001b[0m\u001b[0;34m\u001b[0m\u001b[0m\n\u001b[0m\u001b[1;32m    579\u001b[0m     \u001b[0;32mreturn\u001b[0m \u001b[0mdata\u001b[0m\u001b[0;34m\u001b[0m\u001b[0;34m\u001b[0m\u001b[0m\n\u001b[1;32m    580\u001b[0m \u001b[0;34m\u001b[0m\u001b[0m\n",
            "\u001b[0;32m/usr/lib/python3.10/functools.py\u001b[0m in \u001b[0;36mwrapper\u001b[0;34m(*args, **kw)\u001b[0m\n\u001b[1;32m    887\u001b[0m                             '1 positional argument')\n\u001b[1;32m    888\u001b[0m \u001b[0;34m\u001b[0m\u001b[0m\n\u001b[0;32m--> 889\u001b[0;31m         \u001b[0;32mreturn\u001b[0m \u001b[0mdispatch\u001b[0m\u001b[0;34m(\u001b[0m\u001b[0margs\u001b[0m\u001b[0;34m[\u001b[0m\u001b[0;36m0\u001b[0m\u001b[0;34m]\u001b[0m\u001b[0;34m.\u001b[0m\u001b[0m__class__\u001b[0m\u001b[0;34m)\u001b[0m\u001b[0;34m(\u001b[0m\u001b[0;34m*\u001b[0m\u001b[0margs\u001b[0m\u001b[0;34m,\u001b[0m \u001b[0;34m**\u001b[0m\u001b[0mkw\u001b[0m\u001b[0;34m)\u001b[0m\u001b[0;34m\u001b[0m\u001b[0;34m\u001b[0m\u001b[0m\n\u001b[0m\u001b[1;32m    890\u001b[0m \u001b[0;34m\u001b[0m\u001b[0m\n\u001b[1;32m    891\u001b[0m     \u001b[0mfuncname\u001b[0m \u001b[0;34m=\u001b[0m \u001b[0mgetattr\u001b[0m\u001b[0;34m(\u001b[0m\u001b[0mfunc\u001b[0m\u001b[0;34m,\u001b[0m \u001b[0;34m'__name__'\u001b[0m\u001b[0;34m,\u001b[0m \u001b[0;34m'singledispatch function'\u001b[0m\u001b[0;34m)\u001b[0m\u001b[0;34m\u001b[0m\u001b[0;34m\u001b[0m\u001b[0m\n",
            "\u001b[0;32m/usr/local/lib/python3.10/dist-packages/rpy2/robjects/pandas2ri.py\u001b[0m in \u001b[0;36mpy2rpy_pandasdataframe\u001b[0;34m(obj)\u001b[0m\n\u001b[1;32m     53\u001b[0m \u001b[0;32mdef\u001b[0m \u001b[0mpy2rpy_pandasdataframe\u001b[0m\u001b[0;34m(\u001b[0m\u001b[0mobj\u001b[0m\u001b[0;34m)\u001b[0m\u001b[0;34m:\u001b[0m\u001b[0;34m\u001b[0m\u001b[0;34m\u001b[0m\u001b[0m\n\u001b[1;32m     54\u001b[0m     \u001b[0mod\u001b[0m \u001b[0;34m=\u001b[0m \u001b[0mOrderedDict\u001b[0m\u001b[0;34m(\u001b[0m\u001b[0;34m)\u001b[0m\u001b[0;34m\u001b[0m\u001b[0;34m\u001b[0m\u001b[0m\n\u001b[0;32m---> 55\u001b[0;31m     \u001b[0;32mfor\u001b[0m \u001b[0mname\u001b[0m\u001b[0;34m,\u001b[0m \u001b[0mvalues\u001b[0m \u001b[0;32min\u001b[0m \u001b[0mobj\u001b[0m\u001b[0;34m.\u001b[0m\u001b[0miteritems\u001b[0m\u001b[0;34m(\u001b[0m\u001b[0;34m)\u001b[0m\u001b[0;34m:\u001b[0m\u001b[0;34m\u001b[0m\u001b[0;34m\u001b[0m\u001b[0m\n\u001b[0m\u001b[1;32m     56\u001b[0m         \u001b[0;32mtry\u001b[0m\u001b[0;34m:\u001b[0m\u001b[0;34m\u001b[0m\u001b[0;34m\u001b[0m\u001b[0m\n\u001b[1;32m     57\u001b[0m             \u001b[0mod\u001b[0m\u001b[0;34m[\u001b[0m\u001b[0mname\u001b[0m\u001b[0;34m]\u001b[0m \u001b[0;34m=\u001b[0m \u001b[0mconversion\u001b[0m\u001b[0;34m.\u001b[0m\u001b[0mpy2rpy\u001b[0m\u001b[0;34m(\u001b[0m\u001b[0mvalues\u001b[0m\u001b[0;34m)\u001b[0m\u001b[0;34m\u001b[0m\u001b[0;34m\u001b[0m\u001b[0m\n",
            "\u001b[0;32m/usr/local/lib/python3.10/dist-packages/pandas/core/generic.py\u001b[0m in \u001b[0;36m__getattr__\u001b[0;34m(self, name)\u001b[0m\n\u001b[1;32m   5987\u001b[0m         ):\n\u001b[1;32m   5988\u001b[0m             \u001b[0;32mreturn\u001b[0m \u001b[0mself\u001b[0m\u001b[0;34m[\u001b[0m\u001b[0mname\u001b[0m\u001b[0;34m]\u001b[0m\u001b[0;34m\u001b[0m\u001b[0;34m\u001b[0m\u001b[0m\n\u001b[0;32m-> 5989\u001b[0;31m         \u001b[0;32mreturn\u001b[0m \u001b[0mobject\u001b[0m\u001b[0;34m.\u001b[0m\u001b[0m__getattribute__\u001b[0m\u001b[0;34m(\u001b[0m\u001b[0mself\u001b[0m\u001b[0;34m,\u001b[0m \u001b[0mname\u001b[0m\u001b[0;34m)\u001b[0m\u001b[0;34m\u001b[0m\u001b[0;34m\u001b[0m\u001b[0m\n\u001b[0m\u001b[1;32m   5990\u001b[0m \u001b[0;34m\u001b[0m\u001b[0m\n\u001b[1;32m   5991\u001b[0m     \u001b[0;32mdef\u001b[0m \u001b[0m__setattr__\u001b[0m\u001b[0;34m(\u001b[0m\u001b[0mself\u001b[0m\u001b[0;34m,\u001b[0m \u001b[0mname\u001b[0m\u001b[0;34m:\u001b[0m \u001b[0mstr\u001b[0m\u001b[0;34m,\u001b[0m \u001b[0mvalue\u001b[0m\u001b[0;34m)\u001b[0m \u001b[0;34m->\u001b[0m \u001b[0;32mNone\u001b[0m\u001b[0;34m:\u001b[0m\u001b[0;34m\u001b[0m\u001b[0;34m\u001b[0m\u001b[0m\n",
            "\u001b[0;31mAttributeError\u001b[0m: 'DataFrame' object has no attribute 'iteritems'"
          ]
        }
      ]
    },
    {
      "cell_type": "code",
      "source": [
        "def r_square(model):\n",
        "    var_a = np.sum(model.ranef_var.Var[:-1]) #Sum of variances from random effects\n",
        "    var_e = model_1.ranef_var.Var[-1] #Error variance\n",
        "    var_f = np.sum(model.design_matrix*model.coefs.Estimate,axis=1).var() #Sum of variances from fixed effects\n",
        "\n",
        "    marginal = var_f/(var_f+var_a+var_e)\n",
        "\n",
        "    conditional = (var_f+var_a)/(var_f+var_a+var_e)\n",
        "\n",
        "    print(\"marginal R2:\",marginal)\n",
        "    print(\"conditional R2:\",conditional)\n",
        "    return\n"
      ],
      "metadata": {
        "id": "er36cO2mkVyg"
      },
      "execution_count": null,
      "outputs": []
    },
    {
      "cell_type": "code",
      "source": [
        "r_square(model_1)"
      ],
      "metadata": {
        "id": "hND4rFUua9Mi"
      },
      "execution_count": null,
      "outputs": []
    },
    {
      "cell_type": "markdown",
      "source": [
        "*   There are 3103 observations\n",
        "*   There are 48 groups\n",
        "*   The model has an AIC of 16389.629\n",
        "*   The state-level random effect has an estimated variance of 12.854 with a Std of 3.585\n",
        "*   The residual has an estimated variance 10.828 with a Std of 3.291\n",
        "*   The VPC = 12.854/(12.854+10.828) = 54.3%. This means that 54.3% of the variance in the health can be attributed to the fact that counties belong to different states.\n",
        "*   There are no predictors, only one intercept here, and the intercept estimate is 33.878, and it is statistically significance (p-value = 0.0 < 0.05)\n",
        "\n",
        "\n",
        "\n",
        "\n",
        "\n"
      ],
      "metadata": {
        "id": "S4meHgpHHH_5"
      }
    },
    {
      "cell_type": "markdown",
      "source": [
        "# **Model 2 (30%): Fit an MLM with varying intercept and your independent variables as fixed effects as follows**\n",
        "\n",
        "model2 = Lmer('y ~ 1 + x1 + x2 + ...xj + (1|state)', data=your_data)\n",
        "\n",
        "Map your state-level random effect for the intercept, and explain your MLM model output."
      ],
      "metadata": {
        "id": "H9r6fLK-o_ih"
      }
    },
    {
      "cell_type": "code",
      "source": [
        "model_2 = Lmer('OBESITY ~ 1 + sex_ratio + median_income + gini + pct_age_18_29 + pct_65_over + pct_bach + (1|state)', data=gdf_socio_demo_health_df)\n",
        "model_2.fit()"
      ],
      "metadata": {
        "id": "P0oQU0SlEj56"
      },
      "execution_count": null,
      "outputs": []
    },
    {
      "cell_type": "code",
      "source": [
        "def r_square(model):\n",
        "    var_a = np.sum(model.ranef_var.Var[:-1]) #Sum of variances from random effects\n",
        "    var_e = model_2.ranef_var.Var[-1] #Error variance\n",
        "    var_f = np.sum(model.design_matrix*model.coefs.Estimate,axis=1).var() #Sum of variances from fixed effects\n",
        "\n",
        "    marginal = var_f/(var_f+var_a+var_e)\n",
        "\n",
        "    conditional = (var_f+var_a)/(var_f+var_a+var_e)\n",
        "\n",
        "    print(\"marginal R2:\",marginal)\n",
        "    print(\"conditional R2:\",conditional)\n",
        "    return\n"
      ],
      "metadata": {
        "id": "79ucEhzkiMv5"
      },
      "execution_count": null,
      "outputs": []
    },
    {
      "cell_type": "code",
      "source": [
        "r_square(model_2)"
      ],
      "metadata": {
        "id": "NUBX7Tvtazd3"
      },
      "execution_count": null,
      "outputs": []
    },
    {
      "cell_type": "markdown",
      "source": [
        "*   There are 3103 observations\n",
        "*   There are 48 groups\n",
        "*   The model investigates the relationship between obesity rates (OBESITY) and several predictors (sex_ratio, median_income, gini, pct_age_18_29, pct_65_over, pct_bach)\n",
        "*   The model has an AIC of 14044.006\n",
        "*   The state-level random effect has an estimated variance of 5.430 with a Std of 2.330\n",
        "*   The residual has an estimated variance 5.046 with a Std of 2.246\n",
        "*   The VPC = 5.430/(5.430+5.046) = 51.8%. This means that 51.8% of the variance in the health can be attributed to the fact that counties belong to different states.\n",
        "*   Sex_ratio, pct_age_18_29 do not have a statistically significant effect on obesity rates (P-val > 0.05). median_income, gini, pct_65_over, pct_bach show statistically significant effects. For instance, median_income has a negative relationship with obesity rates, meaning higher income is associated with lower obesity rates."
      ],
      "metadata": {
        "id": "PgNa3iEVcbbS"
      }
    },
    {
      "cell_type": "markdown",
      "source": [
        "# **Model 3 (30%): Fit an MLM with varying intercept and both fixed and random effect for your independent variables (a varying intercept + slope model) as follows:**\n",
        "\n",
        "model3 = Lmer('y ~ 1 + x1 + x2 + ...xj + (1 + x1 + x2 + ...xj|state)', data=your_data)\n",
        "\n",
        "Map all of your state-level random effects, and explain your MLM model output."
      ],
      "metadata": {
        "id": "sL0pfGuspGOU"
      }
    },
    {
      "cell_type": "code",
      "source": [
        "warnings.filterwarnings('ignore')\n",
        "\n",
        "model_3 = Lmer('OBESITY ~ 1 + sex_ratio + median_income + gini + pct_age_18_29 + pct_65_over + pct_bach + (1 + sex_ratio + median_income + gini + pct_age_18_29 + pct_65_over + pct_bach|state)', data=gdf_socio_demo_health_df)\n",
        "\n",
        "model_3.fit()"
      ],
      "metadata": {
        "id": "bgqOhOmcUp91"
      },
      "execution_count": null,
      "outputs": []
    },
    {
      "cell_type": "code",
      "source": [
        "def r_square(model):\n",
        "    var_a = np.sum(model.ranef_var.Var[:-1]) #Sum of variances from random effects\n",
        "    var_e = model_3.ranef_var.Var[-1] #Error variance\n",
        "    var_f = np.sum(model.design_matrix*model.coefs.Estimate,axis=1).var() #Sum of variances from fixed effects\n",
        "\n",
        "    marginal = var_f/(var_f+var_a+var_e)\n",
        "\n",
        "    conditional = (var_f+var_a)/(var_f+var_a+var_e)\n",
        "\n",
        "    print(\"marginal R2:\",marginal)\n",
        "    print(\"conditional R2:\",conditional)\n",
        "    return\n"
      ],
      "metadata": {
        "id": "By1JLF-kUqA_"
      },
      "execution_count": null,
      "outputs": []
    },
    {
      "cell_type": "code",
      "source": [
        "r_square(model_3)"
      ],
      "metadata": {
        "id": "2e-Lz8We33bo"
      },
      "execution_count": null,
      "outputs": []
    },
    {
      "cell_type": "markdown",
      "source": [
        "The variance of 14.915 for Intercept. This value indicates there's considerable variability in the baseline obesity rates across states, suggesting that states significantly differ in their starting points regarding obesity rates. The correlations between random effects, such as between the intercept and median_income (-0.827), suggest how changes in one variable might be associated with changes in another across states. A negative correlation implies that as the baseline obesity rate increases, the effect of median_income on reducing obesity rates also increases, but this relationship is not uniform across all states."
      ],
      "metadata": {
        "id": "QZtvN7GzVTg_"
      }
    },
    {
      "cell_type": "code",
      "source": [
        "model_3.ranef.hist()"
      ],
      "metadata": {
        "id": "rxXgOYUD33h_"
      },
      "execution_count": null,
      "outputs": []
    },
    {
      "cell_type": "code",
      "source": [
        "variables = ['sex_ratio', 'median_income', 'gini', 'pct_age_18_29', 'pct_65_over', 'pct_bach']\n",
        "for i, var in enumerate(variables, start=1):\n",
        "    plt.figure()\n",
        "    plt.scatter(model_3.ranef.iloc[:, 0], model_3.ranef.iloc[:, i])\n",
        "    plt.xlabel(\"Random effect of intercept\")\n",
        "    plt.ylabel(f\"Random effect of {var}\")\n",
        "    plt.title(f\"Random Effects: Intercept vs. {var}\")\n",
        "    plt.show()\n"
      ],
      "metadata": {
        "id": "iSG9NCZCApoD"
      },
      "execution_count": null,
      "outputs": []
    },
    {
      "cell_type": "markdown",
      "source": [
        "*  median_income, pct_age_18_29, pct_65_over： A negative correlation indicates that when the intercept is larger, the slope is (smaller) flatter across the states.\n",
        "\n",
        "*  gini, pct_bach： A negative correlation indicates that when the intercept is larger, the slope is (bigger) flatter across the states."
      ],
      "metadata": {
        "id": "XhMkeAa1HLIi"
      }
    },
    {
      "cell_type": "code",
      "source": [
        "state.plot(model_3.ranef.iloc[:,0].values,legend=True)\n",
        "plt.title(\"Varying intercept\")"
      ],
      "metadata": {
        "id": "M0HkTIFoHLia"
      },
      "execution_count": null,
      "outputs": []
    },
    {
      "cell_type": "code",
      "source": [
        "state.plot(model_3.ranef.iloc[:,1].values,legend=True)\n",
        "plt.title(\"Varying slope of sex_ratio\")"
      ],
      "metadata": {
        "id": "_1YFRevbHLmb"
      },
      "execution_count": null,
      "outputs": []
    },
    {
      "cell_type": "code",
      "source": [
        "state.plot(model_3.ranef.iloc[:,2].values,legend=True)\n",
        "plt.title(\"Varying slope of median_income\")"
      ],
      "metadata": {
        "id": "Q9AAdJI8IBRE"
      },
      "execution_count": null,
      "outputs": []
    },
    {
      "cell_type": "code",
      "source": [
        "state.plot(model_3.ranef.iloc[:,3].values,legend=True)\n",
        "plt.title(\"Varying slope of gini\")"
      ],
      "metadata": {
        "id": "3cHSyx-zIBqd"
      },
      "execution_count": null,
      "outputs": []
    },
    {
      "cell_type": "code",
      "source": [
        "state.plot(model_3.ranef.iloc[:,4].values,legend=True)\n",
        "plt.title(\"Varying slope of pct_age_18_29\")"
      ],
      "metadata": {
        "id": "dVkkjFKaIFFU"
      },
      "execution_count": null,
      "outputs": []
    },
    {
      "cell_type": "code",
      "source": [
        "state.plot(model_3.ranef.iloc[:,5].values,legend=True)\n",
        "plt.title(\"Varying slope of pct_65_over\")"
      ],
      "metadata": {
        "id": "2cRjOqSQIFWg"
      },
      "execution_count": null,
      "outputs": []
    },
    {
      "cell_type": "code",
      "source": [
        "state.plot(model_3.ranef.iloc[:,6].values,legend=True)\n",
        "plt.title(\"Varying slope of pct_bach\")"
      ],
      "metadata": {
        "id": "JVfgvmkiIF7g"
      },
      "execution_count": null,
      "outputs": []
    },
    {
      "cell_type": "markdown",
      "source": [
        "# **Final comparison (10%): compare AIC, conditional and marginal R2 in three models.**\n",
        "\n",
        "Note: replace x1, x2... in the model with the column name of your independent variable."
      ],
      "metadata": {
        "id": "iWZf4NKypKoS"
      }
    },
    {
      "cell_type": "code",
      "source": [
        "data = {\n",
        "    'Model': ['Model_1', 'Model_2', 'Model_3'],\n",
        "    'AIC': [16389.629, 14044.006, 13896.925],\n",
        "    'Marginal R2': [0.000, 0.439, 0.158],\n",
        "    'Conditional R2': [0.542, 0.730, 0.912]\n",
        "}\n",
        "\n",
        "df = pd.DataFrame(data)\n",
        "\n",
        "df.set_index('Model')\n",
        "\n",
        "df"
      ],
      "metadata": {
        "id": "Y5vxJcVpzfSJ"
      },
      "execution_count": null,
      "outputs": []
    },
    {
      "cell_type": "markdown",
      "source": [
        "**Model 1**  \n",
        "\n",
        "* The model only considers random intercepts for each state, reflecting variations in obesity rates across states without considering any fixed predictors.\n",
        "* It has the highest AIC value 16389.629, suggesting it's the least fit among the three. Despite the lack of fixed effect predictors, the conditional R-squared suggests that state-level differences account for over half of the variability in obesity rates.\n",
        "\n",
        "**Model 2**  \n",
        "* This model adds fixed effects for various demographic and socioeconomic predictors. It significantly improves upon Model_1. This model has a much lower AIC, suggesting a better fit than Model_1.\n",
        "* The marginal R2 value is 0.439, meaning that nearly 44% of the variance in the outcome is explained by the fixed effects alone. The conditional R2 is higher at 0.730, indicating a substantial amount of variance explained by the model when including random effects.\n",
        "\n",
        "**Model 3**  \n",
        "* The most complex model includes both fixed effects and random slopes for each predictor within states, allowing for a nuanced understanding of how these relationships vary across states.\n",
        "* It has the lowest AIC, which indicates the **best fit** of the three models according to this criterion.\n",
        "* Its marginal R2 is lower than that of Model_2, which might indicate that the inclusion of random slopes for each predictor within states doesn't add much to the explanation provided by the fixed effects alone. The conditional R2 is the highest at 0.912, which means that the model, with both fixed and random effects, accounts for most of the variance in the outcome.\n"
      ],
      "metadata": {
        "id": "9GNWansst_ya"
      }
    }
  ]
}