{
  "nbformat": 4,
  "nbformat_minor": 0,
  "metadata": {
    "colab": {
      "provenance": [],
      "include_colab_link": true
    },
    "kernelspec": {
      "name": "python3",
      "display_name": "Python 3"
    },
    "language_info": {
      "name": "python"
    }
  },
  "cells": [
    {
      "cell_type": "markdown",
      "metadata": {
        "id": "view-in-github",
        "colab_type": "text"
      },
      "source": [
        "<a href=\"https://colab.research.google.com/github/WeiningKan/Applied-Spatial-Statistics-Course-Project-Code/blob/main/A1_WeiningKan.ipynb\" target=\"_parent\"><img src=\"https://colab.research.google.com/assets/colab-badge.svg\" alt=\"Open In Colab\"/></a>"
      ]
    },
    {
      "cell_type": "markdown",
      "source": [
        "# GIS5122 Assignment 1\n",
        "Due date/time: Feb 9 Friday 23:59pm\n",
        "\n",
        "**Instruction**: Make a copy of this notebook and read through the questions and descriptions. Write down code/text to perform the analysis.\n",
        "\n",
        "**Submission**: After you finish working on this notebook, click File->Download->Download .ipynb\n",
        "\n",
        "Please submit this notebook renamed as A1_your_name.ipynb on Canvas."
      ],
      "metadata": {
        "id": "hFlbC2M55zTn"
      }
    },
    {
      "cell_type": "markdown",
      "source": [
        "## Detailed instructions:\n",
        "In this assignment, you will practice concepts we learned in the statistical inference classes. You will be given two real life datasets:\n",
        "\n",
        "1. A county level health data obtained from [CDC](https://www.cdc.gov/places/index.html). This data has all the counties in the US (~3,100). You can find the explanations to the columns in the data [here](https://raw.githubusercontent.com/Ziqi-Li/GIS5122/main/data/cdc_county_health.txt).\n",
        "2. A county level median household income data obtained from the American Community Survey. This data is only for Florida.\n",
        "\n",
        "Below are specific tasks you need to perform and their credits (total 100%):\n",
        "1. Merge the two datasets into a single DataFrame containing both health data and income data for Florida only. The common ID that can be used for merging is `LocationID` in the health data and `Geo_ID` in the income data. This step is given by using the `pandas.merge()` function.\n",
        "2. Choose one health outcome variable and calculate the Pearson's correlation coefficient between that health variable and the income variable. Report the coefficient and its p-value. (20%)\n",
        "3. Use the bootstrap method to calculate a 95% confidence interval for the correlation coefficient. Provide a clear interpretation of this confidence interval. (40%)\n",
        "4. Perform a permutation test on the correlation coefficient and report its simulated p-value from this permutation test. Compare the result with the p-value obtained in step 2 and provide a clear interpretation of this p-value. (40%)\n",
        "\n",
        "\n",
        "For both bootstrap and permutation test, you can go with 1,000 iterations. Also, please use all the data (instead of a small portion) to generate either bootstrap sample or permutated sample.\n"
      ],
      "metadata": {
        "id": "2bq7TCVP6MRH"
      }
    },
    {
      "cell_type": "markdown",
      "source": [
        "Below is the code that can help you get started:"
      ],
      "metadata": {
        "id": "evysvoZY-H1w"
      }
    },
    {
      "cell_type": "code",
      "source": [
        "import pandas as pd"
      ],
      "metadata": {
        "id": "xIQW_wbP50Nc"
      },
      "execution_count": null,
      "outputs": []
    },
    {
      "cell_type": "code",
      "source": [
        "health_url = \"https://raw.githubusercontent.com/Ziqi-Li/GIS5122/main/data/cdc_health_county.csv\"\n",
        "health = pd.read_csv(health_url)"
      ],
      "metadata": {
        "id": "hP2NudaT5evJ"
      },
      "execution_count": null,
      "outputs": []
    },
    {
      "cell_type": "code",
      "source": [
        "income_url = \"https://raw.githubusercontent.com/Ziqi-Li/GIS5122/main/data/Florida_counties_median_income_2021.csv\"\n",
        "income = pd.read_csv(income_url)"
      ],
      "metadata": {
        "id": "2Fj0ELt55k_1"
      },
      "execution_count": null,
      "outputs": []
    },
    {
      "cell_type": "code",
      "source": [
        "income_health = pd.merge(income, health, left_on = \"Geo_ID\", right_on = \"LocationID\")"
      ],
      "metadata": {
        "id": "1xIa8vjH-PWq"
      },
      "execution_count": null,
      "outputs": []
    },
    {
      "cell_type": "code",
      "source": [
        "income_health.head()"
      ],
      "metadata": {
        "colab": {
          "base_uri": "https://localhost:8080/",
          "height": 446
        },
        "id": "8Ce1SO-t-PY4",
        "outputId": "b03ece58-8c61-4f2f-d072-a62db4b94f5a"
      },
      "execution_count": null,
      "outputs": [
        {
          "output_type": "execute_result",
          "data": {
            "text/plain": [
              "   Unnamed: 0  Geo_ID                      Name  Median_income  LocationID  \\\n",
              "0           0   12001   Alachua County, Florida          53314       12001   \n",
              "1           1   12003     Baker County, Florida          63860       12003   \n",
              "2           2   12005       Bay County, Florida          60473       12005   \n",
              "3           3   12007  Bradford County, Florida          48803       12007   \n",
              "4           4   12009   Brevard County, Florida          63632       12009   \n",
              "\n",
              "   ACCESS2  ARTHRITIS  BINGE  CANCER  CASTHMA  ...  DIABETES  KIDNEY   LPA  \\\n",
              "0     19.3       23.3   18.8     6.3      9.0  ...      11.1     2.9  24.6   \n",
              "1     22.7       26.1   17.4     6.4      9.3  ...      10.8     2.9  27.9   \n",
              "2     19.7       27.7   17.4     6.5      9.2  ...      10.5     2.8  27.8   \n",
              "3     26.2       27.0   17.4     6.3      9.6  ...      12.3     3.2  34.3   \n",
              "4     19.7       25.1   18.8     6.4      8.9  ...      10.0     2.7  25.0   \n",
              "\n",
              "   MAMMOUSE  MHLTH  OBESITY  PHLTH  SLEEP  STROKE  TEETHLOST  \n",
              "0      72.6   14.8     30.7   12.7   36.0     3.3       15.9  \n",
              "1      68.7   16.9     32.8   14.8   43.2     3.6       19.6  \n",
              "2      69.5   16.8     31.6   14.4   39.8     3.3       15.7  \n",
              "3      69.8   17.8     35.9   16.8   41.4     4.1       23.0  \n",
              "4      74.3   15.4     32.6   13.1   40.7     3.1       15.4  \n",
              "\n",
              "[5 rows x 29 columns]"
            ],
            "text/html": [
              "\n",
              "  <div id=\"df-671ad413-8309-4686-83d6-fc6bd99f82b8\" class=\"colab-df-container\">\n",
              "    <div>\n",
              "<style scoped>\n",
              "    .dataframe tbody tr th:only-of-type {\n",
              "        vertical-align: middle;\n",
              "    }\n",
              "\n",
              "    .dataframe tbody tr th {\n",
              "        vertical-align: top;\n",
              "    }\n",
              "\n",
              "    .dataframe thead th {\n",
              "        text-align: right;\n",
              "    }\n",
              "</style>\n",
              "<table border=\"1\" class=\"dataframe\">\n",
              "  <thead>\n",
              "    <tr style=\"text-align: right;\">\n",
              "      <th></th>\n",
              "      <th>Unnamed: 0</th>\n",
              "      <th>Geo_ID</th>\n",
              "      <th>Name</th>\n",
              "      <th>Median_income</th>\n",
              "      <th>LocationID</th>\n",
              "      <th>ACCESS2</th>\n",
              "      <th>ARTHRITIS</th>\n",
              "      <th>BINGE</th>\n",
              "      <th>CANCER</th>\n",
              "      <th>CASTHMA</th>\n",
              "      <th>...</th>\n",
              "      <th>DIABETES</th>\n",
              "      <th>KIDNEY</th>\n",
              "      <th>LPA</th>\n",
              "      <th>MAMMOUSE</th>\n",
              "      <th>MHLTH</th>\n",
              "      <th>OBESITY</th>\n",
              "      <th>PHLTH</th>\n",
              "      <th>SLEEP</th>\n",
              "      <th>STROKE</th>\n",
              "      <th>TEETHLOST</th>\n",
              "    </tr>\n",
              "  </thead>\n",
              "  <tbody>\n",
              "    <tr>\n",
              "      <th>0</th>\n",
              "      <td>0</td>\n",
              "      <td>12001</td>\n",
              "      <td>Alachua County, Florida</td>\n",
              "      <td>53314</td>\n",
              "      <td>12001</td>\n",
              "      <td>19.3</td>\n",
              "      <td>23.3</td>\n",
              "      <td>18.8</td>\n",
              "      <td>6.3</td>\n",
              "      <td>9.0</td>\n",
              "      <td>...</td>\n",
              "      <td>11.1</td>\n",
              "      <td>2.9</td>\n",
              "      <td>24.6</td>\n",
              "      <td>72.6</td>\n",
              "      <td>14.8</td>\n",
              "      <td>30.7</td>\n",
              "      <td>12.7</td>\n",
              "      <td>36.0</td>\n",
              "      <td>3.3</td>\n",
              "      <td>15.9</td>\n",
              "    </tr>\n",
              "    <tr>\n",
              "      <th>1</th>\n",
              "      <td>1</td>\n",
              "      <td>12003</td>\n",
              "      <td>Baker County, Florida</td>\n",
              "      <td>63860</td>\n",
              "      <td>12003</td>\n",
              "      <td>22.7</td>\n",
              "      <td>26.1</td>\n",
              "      <td>17.4</td>\n",
              "      <td>6.4</td>\n",
              "      <td>9.3</td>\n",
              "      <td>...</td>\n",
              "      <td>10.8</td>\n",
              "      <td>2.9</td>\n",
              "      <td>27.9</td>\n",
              "      <td>68.7</td>\n",
              "      <td>16.9</td>\n",
              "      <td>32.8</td>\n",
              "      <td>14.8</td>\n",
              "      <td>43.2</td>\n",
              "      <td>3.6</td>\n",
              "      <td>19.6</td>\n",
              "    </tr>\n",
              "    <tr>\n",
              "      <th>2</th>\n",
              "      <td>2</td>\n",
              "      <td>12005</td>\n",
              "      <td>Bay County, Florida</td>\n",
              "      <td>60473</td>\n",
              "      <td>12005</td>\n",
              "      <td>19.7</td>\n",
              "      <td>27.7</td>\n",
              "      <td>17.4</td>\n",
              "      <td>6.5</td>\n",
              "      <td>9.2</td>\n",
              "      <td>...</td>\n",
              "      <td>10.5</td>\n",
              "      <td>2.8</td>\n",
              "      <td>27.8</td>\n",
              "      <td>69.5</td>\n",
              "      <td>16.8</td>\n",
              "      <td>31.6</td>\n",
              "      <td>14.4</td>\n",
              "      <td>39.8</td>\n",
              "      <td>3.3</td>\n",
              "      <td>15.7</td>\n",
              "    </tr>\n",
              "    <tr>\n",
              "      <th>3</th>\n",
              "      <td>3</td>\n",
              "      <td>12007</td>\n",
              "      <td>Bradford County, Florida</td>\n",
              "      <td>48803</td>\n",
              "      <td>12007</td>\n",
              "      <td>26.2</td>\n",
              "      <td>27.0</td>\n",
              "      <td>17.4</td>\n",
              "      <td>6.3</td>\n",
              "      <td>9.6</td>\n",
              "      <td>...</td>\n",
              "      <td>12.3</td>\n",
              "      <td>3.2</td>\n",
              "      <td>34.3</td>\n",
              "      <td>69.8</td>\n",
              "      <td>17.8</td>\n",
              "      <td>35.9</td>\n",
              "      <td>16.8</td>\n",
              "      <td>41.4</td>\n",
              "      <td>4.1</td>\n",
              "      <td>23.0</td>\n",
              "    </tr>\n",
              "    <tr>\n",
              "      <th>4</th>\n",
              "      <td>4</td>\n",
              "      <td>12009</td>\n",
              "      <td>Brevard County, Florida</td>\n",
              "      <td>63632</td>\n",
              "      <td>12009</td>\n",
              "      <td>19.7</td>\n",
              "      <td>25.1</td>\n",
              "      <td>18.8</td>\n",
              "      <td>6.4</td>\n",
              "      <td>8.9</td>\n",
              "      <td>...</td>\n",
              "      <td>10.0</td>\n",
              "      <td>2.7</td>\n",
              "      <td>25.0</td>\n",
              "      <td>74.3</td>\n",
              "      <td>15.4</td>\n",
              "      <td>32.6</td>\n",
              "      <td>13.1</td>\n",
              "      <td>40.7</td>\n",
              "      <td>3.1</td>\n",
              "      <td>15.4</td>\n",
              "    </tr>\n",
              "  </tbody>\n",
              "</table>\n",
              "<p>5 rows × 29 columns</p>\n",
              "</div>\n",
              "    <div class=\"colab-df-buttons\">\n",
              "\n",
              "  <div class=\"colab-df-container\">\n",
              "    <button class=\"colab-df-convert\" onclick=\"convertToInteractive('df-671ad413-8309-4686-83d6-fc6bd99f82b8')\"\n",
              "            title=\"Convert this dataframe to an interactive table.\"\n",
              "            style=\"display:none;\">\n",
              "\n",
              "  <svg xmlns=\"http://www.w3.org/2000/svg\" height=\"24px\" viewBox=\"0 -960 960 960\">\n",
              "    <path d=\"M120-120v-720h720v720H120Zm60-500h600v-160H180v160Zm220 220h160v-160H400v160Zm0 220h160v-160H400v160ZM180-400h160v-160H180v160Zm440 0h160v-160H620v160ZM180-180h160v-160H180v160Zm440 0h160v-160H620v160Z\"/>\n",
              "  </svg>\n",
              "    </button>\n",
              "\n",
              "  <style>\n",
              "    .colab-df-container {\n",
              "      display:flex;\n",
              "      gap: 12px;\n",
              "    }\n",
              "\n",
              "    .colab-df-convert {\n",
              "      background-color: #E8F0FE;\n",
              "      border: none;\n",
              "      border-radius: 50%;\n",
              "      cursor: pointer;\n",
              "      display: none;\n",
              "      fill: #1967D2;\n",
              "      height: 32px;\n",
              "      padding: 0 0 0 0;\n",
              "      width: 32px;\n",
              "    }\n",
              "\n",
              "    .colab-df-convert:hover {\n",
              "      background-color: #E2EBFA;\n",
              "      box-shadow: 0px 1px 2px rgba(60, 64, 67, 0.3), 0px 1px 3px 1px rgba(60, 64, 67, 0.15);\n",
              "      fill: #174EA6;\n",
              "    }\n",
              "\n",
              "    .colab-df-buttons div {\n",
              "      margin-bottom: 4px;\n",
              "    }\n",
              "\n",
              "    [theme=dark] .colab-df-convert {\n",
              "      background-color: #3B4455;\n",
              "      fill: #D2E3FC;\n",
              "    }\n",
              "\n",
              "    [theme=dark] .colab-df-convert:hover {\n",
              "      background-color: #434B5C;\n",
              "      box-shadow: 0px 1px 3px 1px rgba(0, 0, 0, 0.15);\n",
              "      filter: drop-shadow(0px 1px 2px rgba(0, 0, 0, 0.3));\n",
              "      fill: #FFFFFF;\n",
              "    }\n",
              "  </style>\n",
              "\n",
              "    <script>\n",
              "      const buttonEl =\n",
              "        document.querySelector('#df-671ad413-8309-4686-83d6-fc6bd99f82b8 button.colab-df-convert');\n",
              "      buttonEl.style.display =\n",
              "        google.colab.kernel.accessAllowed ? 'block' : 'none';\n",
              "\n",
              "      async function convertToInteractive(key) {\n",
              "        const element = document.querySelector('#df-671ad413-8309-4686-83d6-fc6bd99f82b8');\n",
              "        const dataTable =\n",
              "          await google.colab.kernel.invokeFunction('convertToInteractive',\n",
              "                                                    [key], {});\n",
              "        if (!dataTable) return;\n",
              "\n",
              "        const docLinkHtml = 'Like what you see? Visit the ' +\n",
              "          '<a target=\"_blank\" href=https://colab.research.google.com/notebooks/data_table.ipynb>data table notebook</a>'\n",
              "          + ' to learn more about interactive tables.';\n",
              "        element.innerHTML = '';\n",
              "        dataTable['output_type'] = 'display_data';\n",
              "        await google.colab.output.renderOutput(dataTable, element);\n",
              "        const docLink = document.createElement('div');\n",
              "        docLink.innerHTML = docLinkHtml;\n",
              "        element.appendChild(docLink);\n",
              "      }\n",
              "    </script>\n",
              "  </div>\n",
              "\n",
              "\n",
              "<div id=\"df-fea4648e-e3d7-472c-9ca0-6a46e9605840\">\n",
              "  <button class=\"colab-df-quickchart\" onclick=\"quickchart('df-fea4648e-e3d7-472c-9ca0-6a46e9605840')\"\n",
              "            title=\"Suggest charts\"\n",
              "            style=\"display:none;\">\n",
              "\n",
              "<svg xmlns=\"http://www.w3.org/2000/svg\" height=\"24px\"viewBox=\"0 0 24 24\"\n",
              "     width=\"24px\">\n",
              "    <g>\n",
              "        <path d=\"M19 3H5c-1.1 0-2 .9-2 2v14c0 1.1.9 2 2 2h14c1.1 0 2-.9 2-2V5c0-1.1-.9-2-2-2zM9 17H7v-7h2v7zm4 0h-2V7h2v10zm4 0h-2v-4h2v4z\"/>\n",
              "    </g>\n",
              "</svg>\n",
              "  </button>\n",
              "\n",
              "<style>\n",
              "  .colab-df-quickchart {\n",
              "      --bg-color: #E8F0FE;\n",
              "      --fill-color: #1967D2;\n",
              "      --hover-bg-color: #E2EBFA;\n",
              "      --hover-fill-color: #174EA6;\n",
              "      --disabled-fill-color: #AAA;\n",
              "      --disabled-bg-color: #DDD;\n",
              "  }\n",
              "\n",
              "  [theme=dark] .colab-df-quickchart {\n",
              "      --bg-color: #3B4455;\n",
              "      --fill-color: #D2E3FC;\n",
              "      --hover-bg-color: #434B5C;\n",
              "      --hover-fill-color: #FFFFFF;\n",
              "      --disabled-bg-color: #3B4455;\n",
              "      --disabled-fill-color: #666;\n",
              "  }\n",
              "\n",
              "  .colab-df-quickchart {\n",
              "    background-color: var(--bg-color);\n",
              "    border: none;\n",
              "    border-radius: 50%;\n",
              "    cursor: pointer;\n",
              "    display: none;\n",
              "    fill: var(--fill-color);\n",
              "    height: 32px;\n",
              "    padding: 0;\n",
              "    width: 32px;\n",
              "  }\n",
              "\n",
              "  .colab-df-quickchart:hover {\n",
              "    background-color: var(--hover-bg-color);\n",
              "    box-shadow: 0 1px 2px rgba(60, 64, 67, 0.3), 0 1px 3px 1px rgba(60, 64, 67, 0.15);\n",
              "    fill: var(--button-hover-fill-color);\n",
              "  }\n",
              "\n",
              "  .colab-df-quickchart-complete:disabled,\n",
              "  .colab-df-quickchart-complete:disabled:hover {\n",
              "    background-color: var(--disabled-bg-color);\n",
              "    fill: var(--disabled-fill-color);\n",
              "    box-shadow: none;\n",
              "  }\n",
              "\n",
              "  .colab-df-spinner {\n",
              "    border: 2px solid var(--fill-color);\n",
              "    border-color: transparent;\n",
              "    border-bottom-color: var(--fill-color);\n",
              "    animation:\n",
              "      spin 1s steps(1) infinite;\n",
              "  }\n",
              "\n",
              "  @keyframes spin {\n",
              "    0% {\n",
              "      border-color: transparent;\n",
              "      border-bottom-color: var(--fill-color);\n",
              "      border-left-color: var(--fill-color);\n",
              "    }\n",
              "    20% {\n",
              "      border-color: transparent;\n",
              "      border-left-color: var(--fill-color);\n",
              "      border-top-color: var(--fill-color);\n",
              "    }\n",
              "    30% {\n",
              "      border-color: transparent;\n",
              "      border-left-color: var(--fill-color);\n",
              "      border-top-color: var(--fill-color);\n",
              "      border-right-color: var(--fill-color);\n",
              "    }\n",
              "    40% {\n",
              "      border-color: transparent;\n",
              "      border-right-color: var(--fill-color);\n",
              "      border-top-color: var(--fill-color);\n",
              "    }\n",
              "    60% {\n",
              "      border-color: transparent;\n",
              "      border-right-color: var(--fill-color);\n",
              "    }\n",
              "    80% {\n",
              "      border-color: transparent;\n",
              "      border-right-color: var(--fill-color);\n",
              "      border-bottom-color: var(--fill-color);\n",
              "    }\n",
              "    90% {\n",
              "      border-color: transparent;\n",
              "      border-bottom-color: var(--fill-color);\n",
              "    }\n",
              "  }\n",
              "</style>\n",
              "\n",
              "  <script>\n",
              "    async function quickchart(key) {\n",
              "      const quickchartButtonEl =\n",
              "        document.querySelector('#' + key + ' button');\n",
              "      quickchartButtonEl.disabled = true;  // To prevent multiple clicks.\n",
              "      quickchartButtonEl.classList.add('colab-df-spinner');\n",
              "      try {\n",
              "        const charts = await google.colab.kernel.invokeFunction(\n",
              "            'suggestCharts', [key], {});\n",
              "      } catch (error) {\n",
              "        console.error('Error during call to suggestCharts:', error);\n",
              "      }\n",
              "      quickchartButtonEl.classList.remove('colab-df-spinner');\n",
              "      quickchartButtonEl.classList.add('colab-df-quickchart-complete');\n",
              "    }\n",
              "    (() => {\n",
              "      let quickchartButtonEl =\n",
              "        document.querySelector('#df-fea4648e-e3d7-472c-9ca0-6a46e9605840 button');\n",
              "      quickchartButtonEl.style.display =\n",
              "        google.colab.kernel.accessAllowed ? 'block' : 'none';\n",
              "    })();\n",
              "  </script>\n",
              "</div>\n",
              "    </div>\n",
              "  </div>\n"
            ]
          },
          "metadata": {},
          "execution_count": 5
        }
      ]
    },
    {
      "cell_type": "markdown",
      "source": [
        "## 2.Choose one health outcome variable and calculate the Pearson's correlation coefficient between that health variable and the income variable. Report the coefficient and its p-value."
      ],
      "metadata": {
        "id": "jgdwv0eubZnN"
      }
    },
    {
      "cell_type": "code",
      "source": [
        "import matplotlib.pyplot as plt"
      ],
      "metadata": {
        "id": "leEUWl6lkg_J"
      },
      "execution_count": null,
      "outputs": []
    },
    {
      "cell_type": "code",
      "source": [
        "income_health = income_health.dropna()"
      ],
      "metadata": {
        "id": "4ZPI9DF4nZB9"
      },
      "execution_count": null,
      "outputs": []
    },
    {
      "cell_type": "code",
      "source": [
        "from scipy.stats import *\n",
        "plt.scatter(income_health.Median_income, income_health.OBESITY)\n",
        "plt.xlabel(\"Median_income\")\n",
        "plt.ylabel(\"OBESITY\")"
      ],
      "metadata": {
        "id": "6I8urEUS6_lm",
        "colab": {
          "base_uri": "https://localhost:8080/",
          "height": 467
        },
        "outputId": "115e0db3-9c67-4103-e075-abcfc1159945"
      },
      "execution_count": null,
      "outputs": [
        {
          "output_type": "execute_result",
          "data": {
            "text/plain": [
              "Text(0, 0.5, 'OBESITY')"
            ]
          },
          "metadata": {},
          "execution_count": 13
        },
        {
          "output_type": "display_data",
          "data": {
            "text/plain": [
              "<Figure size 640x480 with 1 Axes>"
            ],
            "image/png": "[encoded data removed]"
          },
          "metadata": {}
        }
      ]
    },
    {
      "cell_type": "code",
      "source": [
        "print(\"Pearson:\",pearsonr(income_health.Median_income, income_health.OBESITY))"
      ],
      "metadata": {
        "id": "6jpw1v39-PfX",
        "colab": {
          "base_uri": "https://localhost:8080/"
        },
        "outputId": "d25c8745-848a-4d0f-c3d8-cac2fed99be5"
      },
      "execution_count": null,
      "outputs": [
        {
          "output_type": "stream",
          "name": "stdout",
          "text": [
            "Pearson: PearsonRResult(statistic=-0.7343032287316698, pvalue=2.281301199241349e-12)\n"
          ]
        }
      ]
    },
    {
      "cell_type": "markdown",
      "source": [
        "## 3.Use the bootstrap method to calculate a 95% confidence interval for the correlation coefficient. Provide a clear interpretation of this confidence interval."
      ],
      "metadata": {
        "id": "n0tMOdZ8zc5V"
      }
    },
    {
      "cell_type": "code",
      "source": [
        "#Define a bootstrap function:\n",
        "np.random.seed(333)\n",
        "def bootstrap_pearson(income_health):\n",
        "\n",
        "    bootstrap_cor_list = []\n",
        "\n",
        "    for i in range(1000):\n",
        "        subsample = income_health.sample(len(income_health), replace=True)\n",
        "\n",
        "        sample_cor = pearsonr(subsample.OBESITY, subsample.Median_income)[0]\n",
        "\n",
        "        bootstrap_cor_list.append(sample_cor)\n",
        "\n",
        "    #Get the lower and upper bound for the middle 95%:\n",
        "    percentile_CI = [np.percentile(bootstrap_cor_list, 2.5),\n",
        "          np.percentile(bootstrap_cor_list, 97.5)]\n",
        "\n",
        "    return percentile_CI\n"
      ],
      "metadata": {
        "id": "M9bf0mtpd9yi"
      },
      "execution_count": null,
      "outputs": []
    },
    {
      "cell_type": "code",
      "source": [
        "bootstrap_pearson(income_health)"
      ],
      "metadata": {
        "colab": {
          "base_uri": "https://localhost:8080/"
        },
        "id": "C-xYHD3k9Ma5",
        "outputId": "b7a5b732-c8c7-4d8c-c28e-50409c48c6ad"
      },
      "execution_count": null,
      "outputs": [
        {
          "output_type": "execute_result",
          "data": {
            "text/plain": [
              "[-0.826310414988632, -0.6225457233616892]"
            ]
          },
          "metadata": {},
          "execution_count": 49
        }
      ]
    },
    {
      "cell_type": "code",
      "source": [
        "print(\"95% confidence interval of the Pearson correlation coefficient is:\",\n",
        "     \"[-0.826 to -0.622]\")"
      ],
      "metadata": {
        "colab": {
          "base_uri": "https://localhost:8080/"
        },
        "id": "hkzS4fBs7Gv8",
        "outputId": "e98e974b-e57d-48f8-8914-90f3ff447ad8"
      },
      "execution_count": null,
      "outputs": [
        {
          "output_type": "stream",
          "name": "stdout",
          "text": [
            "95% confidence interval of the Pearson correlation coefficient is: [-0.826 to -0.622]\n"
          ]
        }
      ]
    },
    {
      "cell_type": "markdown",
      "source": [
        "The 95% confidence interval for the Pearson correlation coefficient, estimated to be [-0.826, -0.622], provides a range in which we can be 95% confident that the true correlation coefficient between obesity rate among adults aged >=18 years and median household income for counties in Florida lies."
      ],
      "metadata": {
        "id": "R-2ns8v3JSDB"
      }
    },
    {
      "cell_type": "markdown",
      "source": [
        "## 4.Permutation test"
      ],
      "metadata": {
        "id": "_vbX7hGgMfVe"
      }
    },
    {
      "cell_type": "code",
      "source": [
        "def permutation_cor(income_health):\n",
        "\n",
        "    null_cor_list = []\n",
        "\n",
        "    for i in range(10000):\n",
        "        subsample_Y = np.random.permutation(income_health.Median_income)\n",
        "\n",
        "        sample_cor = pearsonr(income_health.OBESITY, subsample_Y)[0]\n",
        "\n",
        "        null_cor_list.append(sample_cor)\n",
        "\n",
        "    return null_cor_list"
      ],
      "metadata": {
        "id": "4jBaDA4JXALZ"
      },
      "execution_count": null,
      "outputs": []
    },
    {
      "cell_type": "code",
      "source": [
        "null_dist = permutation_cor(income_health)"
      ],
      "metadata": {
        "id": "jxdLA5chYMC6"
      },
      "execution_count": null,
      "outputs": []
    },
    {
      "cell_type": "code",
      "source": [
        "plt.hist(null_dist)\n",
        "\n",
        "plt.vlines(pearson_rslt[0],ymin=0,ymax=3000,color=\"red\")"
      ],
      "metadata": {
        "colab": {
          "base_uri": "https://localhost:8080/",
          "height": 447
        },
        "id": "ZD50KH9vYap3",
        "outputId": "f305a44f-3301-46f7-e3b7-0edd62938c87"
      },
      "execution_count": null,
      "outputs": [
        {
          "output_type": "execute_result",
          "data": {
            "text/plain": [
              "<matplotlib.collections.LineCollection at 0x7d5a834e5030>"
            ]
          },
          "metadata": {},
          "execution_count": 81
        },
        {
          "output_type": "display_data",
          "data": {
            "text/plain": [
              "<Figure size 640x480 with 1 Axes>"
            ],
            "image/png": "[encoded data removed]"
          },
          "metadata": {}
        }
      ]
    },
    {
      "cell_type": "code",
      "source": [
        "np.sum(np.abs(np.array(null_dist)) >= np.abs(pearson_rslt[0]))"
      ],
      "metadata": {
        "colab": {
          "base_uri": "https://localhost:8080/"
        },
        "id": "V9WW7jhyYatD",
        "outputId": "7b2d065f-0d0d-499f-8f6c-63ec2bc25c2a"
      },
      "execution_count": null,
      "outputs": [
        {
          "output_type": "execute_result",
          "data": {
            "text/plain": [
              "0"
            ]
          },
          "metadata": {},
          "execution_count": 84
        }
      ]
    },
    {
      "cell_type": "code",
      "source": [
        "import numpy as np\n",
        "p_sim = np.sum(np.abs(np.array(null_dist)) >= np.abs(pearson_rslt[0]))/1000"
      ],
      "metadata": {
        "id": "-8ice3nYYaxq"
      },
      "execution_count": null,
      "outputs": []
    },
    {
      "cell_type": "code",
      "source": [
        "print(\"The simulated p-value (2-tail): \", p_sim)\n",
        "\n",
        "print(\"The actual p-value (2-tail) : \", pearson_rslt[1])"
      ],
      "metadata": {
        "colab": {
          "base_uri": "https://localhost:8080/"
        },
        "id": "2wJFTitKYa28",
        "outputId": "05fe9d22-daf6-4308-8288-dab494951f33"
      },
      "execution_count": null,
      "outputs": [
        {
          "output_type": "stream",
          "name": "stdout",
          "text": [
            "The simulated p-value (2-tail):  0.0\n",
            "The actual p-value (2-tail) :  2.281301199241349e-12\n"
          ]
        }
      ]
    },
    {
      "cell_type": "markdown",
      "source": [
        "A simulated p-value of 0.0 suggests that the observed negative correlation between obesity rate and median household income is highly unlikely to have occurred by chance. This reinforces the statistical significance of the relationship. The permutation test p-value is consistent with the p-value obtained in step 2 (approximately 2.28e-12), which was also very low. Both results indicate a significant correlation."
      ],
      "metadata": {
        "id": "zIXoT4Z6ejmD"
      }
    }
  ]
}